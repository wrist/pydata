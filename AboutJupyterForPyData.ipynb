{
 "cells": [
  {
   "cell_type": "markdown",
   "metadata": {
    "collapsed": true,
    "nbpresent": {
     "id": "ef613a2a-a95b-4837-ab40-df832935b1c7"
    },
    "slideshow": {
     "slide_type": "slide"
    }
   },
   "source": [
    "# 最近のIPython, Jupyter周りについて #\n",
    "\n",
    "## 大橋 宏正([twitter: @wrist](http://twitter.com/wrist)) ##\n"
   ]
  },
  {
   "cell_type": "markdown",
   "metadata": {
    "nbpresent": {
     "id": "643e23bc-f6c2-4ca8-b160-710846d4027c"
    },
    "slideshow": {
     "slide_type": "slide"
    }
   },
   "source": [
    "## 自己紹介 ##\n",
    "\n",
    "* 大橋宏正\n",
    "    * twitter: [@wrist](http://twitter.com/wrist)\n",
    "    * Qiita: [@wrist](http://qiita.com/wrist)\n",
    "* 某メーカーで音響信号処理の研究開発に従事\n",
    "    * エコーキャンセラ、ノイズキャンセラの開発\n",
    "* よく使うScipy\n",
    "    * fftpack\n",
    "    * signal"
   ]
  },
  {
   "cell_type": "markdown",
   "metadata": {
    "nbpresent": {
     "id": "a43c2e8a-d80b-469f-8e14-d423783e993a"
    },
    "slideshow": {
     "slide_type": "slide"
    }
   },
   "source": [
    "# 前置き #"
   ]
  },
  {
   "cell_type": "markdown",
   "metadata": {
    "nbpresent": {
     "id": "4bab5413-8219-42da-8fdc-ec4a859ffea1"
    },
    "slideshow": {
     "slide_type": "slide"
    }
   },
   "source": [
    "## 大阪PRML読書会 ##\n",
    "\n",
    "* 2013年ぐらいから細々と活動\n",
    "* PRMLの読書会を2年ぐらい継続\n",
    "* 最近[doorkeeper](https://osaka-prml-reading.doorkeeper.jp/)から[connpass](http://osaka-prml-reading.connpass.com/)にコミュニティサイトを移行\n",
    "* 最近は毎週土曜日夜にオンライン読書会を開催"
   ]
  },
  {
   "cell_type": "markdown",
   "metadata": {
    "nbpresent": {
     "id": "77e81952-f7f6-49d4-acdf-a997841a8dbf"
    },
    "slideshow": {
     "slide_type": "slide"
    }
   },
   "source": [
    "## ここ半年間の活動内容 ##\n",
    "\n",
    "* オンライン読書会を実施(2月〜10月)\n",
    "    * [IPythonデータサイエンスクックブック](https://www.oreilly.co.jp/books/9784873117485/)\n",
    "    * オライリーから2015/12に発行\n",
    "* [原著:IPython Interactive Computing and Visualization Cookbook](http://shop.oreilly.com/product/9781783284818.do)\n",
    "    * 2014/9発売、IPython 2.0がメイン\n",
    "    * 今となっては古い内容が目立つ([APIがそもそも違う](https://jupyter.readthedocs.io/en/latest/migrating.html))\n",
    "* 本発表では現在の内容に一部置き換えた内容をかい摘んで発表"
   ]
  },
  {
   "cell_type": "markdown",
   "metadata": {
    "nbpresent": {
     "id": "2ef5a31e-88f7-4cd3-8fde-4ebedac21b3b"
    },
    "slideshow": {
     "slide_type": "subslide"
    }
   },
   "source": [
    "<img src=\"./ipython_cookbook.jpg\" width=\"200px\" height=\"400px\">"
   ]
  },
  {
   "cell_type": "markdown",
   "metadata": {
    "nbpresent": {
     "id": "b82d99fe-1a61-4dfd-86b2-456ae7df3f69"
    },
    "slideshow": {
     "slide_type": "slide"
    }
   },
   "source": [
    "## 目次 ##\n",
    "\n",
    "* IPython(Jupyter)について\n",
    "* kernelの自作\n",
    "* magicコマンドの自作\n",
    "* ipywidget\n",
    "* extension\n",
    "* Jupyterの周辺ツール\n",
    "* Jupyterlab"
   ]
  },
  {
   "cell_type": "markdown",
   "metadata": {
    "nbpresent": {
     "id": "1406fed8-a232-41bc-b2eb-8e26e6e5e522"
    },
    "slideshow": {
     "slide_type": "slide"
    }
   },
   "source": [
    "## このプレゼンで話さないこと ##\n",
    "\n",
    "* デバッグ、プロファイル周り\n",
    "* numba, numexpr, cythonなどの高速化\n",
    "* ipyparallelを利用した並列化\n",
    "* seaborn, bokehなどの高機能プロットツール類"
   ]
  },
  {
   "cell_type": "markdown",
   "metadata": {
    "nbpresent": {
     "id": "0fcc1890-ad38-462a-91c5-a6a1c453c359"
    },
    "slideshow": {
     "slide_type": "slide"
    }
   },
   "source": [
    "# IPython(Jupyter)について #"
   ]
  },
  {
   "cell_type": "markdown",
   "metadata": {
    "nbpresent": {
     "id": "28f6bd51-6d3b-4d6b-8487-da4f1a568557"
    },
    "slideshow": {
     "slide_type": "slide"
    }
   },
   "source": [
    "## IPythonとIPython Notebook ##\n",
    "\n",
    "* IPython\n",
    "    * 元々は高機能なコンソール\n",
    "    * 0.0.1にあたるものは2001年には存在\n",
    "* IPython notebook\n",
    "    * ブラウザ上でインタラクティブに操作可能なUIを提供\n",
    "    * 2011年11月にリリース\n",
    "* 諸々の歴史については[この記事](http://blog.fperez.org/2012/01/ipython-notebook-historical.html)に詳しい"
   ]
  },
  {
   "cell_type": "markdown",
   "metadata": {
    "nbpresent": {
     "id": "d6882dfe-43fa-46c4-a7f5-d3e2a647a24f"
    },
    "slideshow": {
     "slide_type": "subslide"
    }
   },
   "source": [
    "## 記事の内容の抜粋(1) ##\n",
    "\n",
    "* 2001年ごろの学部生の頃にMathematicやMapleのノートブック形式を触り始めた\n",
    "* 同じぐらいの時期にPythonシェルへの不満からIPython0.0.1を作成、同じような機能を持つLazyPython, IPPを導入"
   ]
  },
  {
   "cell_type": "markdown",
   "metadata": {
    "nbpresent": {
     "id": "e3e48eba-c1ae-4e38-a3eb-ca4dfa5f0f3a"
    },
    "slideshow": {
     "slide_type": "subslide"
    }
   },
   "source": [
    "## 記事の内容の抜粋(2) ##\n",
    "\n",
    "* 2006年ごろにSage Notebookが誕生\n",
    "* 同時期にInteractive Parallel Computingツールを作った\n",
    "    * Twistedベースでありクライアントとしてブラウザを使用\n",
    "    * Sageとの違い:IPython Experience"
   ]
  },
  {
   "cell_type": "markdown",
   "metadata": {
    "nbpresent": {
     "id": "f99d5796-c6fe-423a-b6b5-371723307807"
    },
    "slideshow": {
     "slide_type": "subslide"
    }
   },
   "source": [
    "## 記事の内容の抜粋(3) ##\n",
    "\n",
    "* 2009, 2010年ごろにTwistedベースからZeroMQベースへの切り替えを実施\n",
    "    * ZeroMQ:分散、並列計算向けの非同期メッセージングライブラリ\n",
    "    * Cythonベースでpyzmqも作成\n",
    "* 2010年終わりにQt Consoleが完成\n",
    "* 同時期にMicrosoftによるPython Tools For Visual Studioが完成\n",
    "* これらはZeroMQによるカーネルを分離した非同期処理の恩恵によるもの"
   ]
  },
  {
   "cell_type": "markdown",
   "metadata": {
    "nbpresent": {
     "id": "e8b4da59-a499-46bc-9b9e-d5d60a038814"
    },
    "slideshow": {
     "slide_type": "slide"
    }
   },
   "source": [
    "## Jupyter ##\n",
    "\n",
    "* 独立に存在していたJupyterプロジェクトが2014年にIPython 4.0と統合\n",
    "* クライアントとカーネルが独立に存在することにより言語非依存な環境を実現\n",
    "* 現在のIPython\n",
    "    * 言語処理カーネルとインタラクティブシェルのみを指す\n",
    "    * メッセージプロトコル、qtconsole、notebookなどはJupyterへ移動\n",
    "* `jupyter サブコマンド`の形式で諸々の機能を実行"
   ]
  },
  {
   "cell_type": "markdown",
   "metadata": {
    "nbpresent": {
     "id": "4ab5f505-2ceb-4c66-a9b9-d7bd67e4704b"
    },
    "slideshow": {
     "slide_type": "slide"
    }
   },
   "source": [
    "## Jupyter Notebookについて ##"
   ]
  },
  {
   "cell_type": "markdown",
   "metadata": {
    "nbpresent": {
     "id": "5de09387-2963-4829-aba2-6a21dde49105"
    },
    "slideshow": {
     "slide_type": "slide"
    }
   },
   "source": [
    "## Jupyter Notebook ##\n",
    "\n",
    "* ブラウザベースの対話的な計算環境を提供\n",
    "    * カーネル切り替えにより様々な言語や環境に対応\n",
    "    * ノートブック形式(`.ipynb`)で保存\n",
    "    * 種々の周辺ライブラリと統合\n",
    "        * pandas, sympy, etc..."
   ]
  },
  {
   "cell_type": "markdown",
   "metadata": {
    "nbpresent": {
     "id": "7fe079b0-ea86-4c06-aecb-f3a6fb5e09ff"
    },
    "slideshow": {
     "slide_type": "slide"
    }
   },
   "source": [
    "## インストール ##\n",
    "\n",
    "* [Installing Jupyter Notebook](https://jupyter.readthedocs.io/en/latest/install.html)\n",
    "* `pip install jupyter`\n",
    "* anaconda(miniconda)を使う場合`conda install jupyter`"
   ]
  },
  {
   "cell_type": "markdown",
   "metadata": {
    "nbpresent": {
     "id": "2384a70c-4e89-483a-bdca-0d3a447287e1"
    },
    "slideshow": {
     "slide_type": "slide"
    }
   },
   "source": [
    "## 手元の環境 ##\n",
    "\n",
    "* pyenv\n",
    "    * miniconda3-latest\n",
    "        * python3.5でconda envを作成\n",
    "* pyenv-virtualenv\n",
    "    * pyenv activate 環境名"
   ]
  },
  {
   "cell_type": "markdown",
   "metadata": {
    "nbpresent": {
     "id": "398d31c6-eadf-49d8-86b2-714ffe6c45dc"
    },
    "slideshow": {
     "slide_type": "slide"
    }
   },
   "source": [
    "## 便利なショートカット類(1) ##\n",
    "\n",
    "* j, kでセル上下移動\n",
    "* a, bで上下にセル挿入\n",
    "* yでコピー、xでカット、ddで削除、vでペースト\n",
    "* zでUndo, fで検索および置換"
   ]
  },
  {
   "cell_type": "markdown",
   "metadata": {
    "nbpresent": {
     "id": "9ef60d3f-7a33-4b19-a849-7900e6b8d4de"
    },
    "slideshow": {
     "slide_type": "slide"
    }
   },
   "source": [
    "## 便利なショートカット類(2) ##\n",
    "\n",
    "* 1,2,3,...で見出しサイズ変更\n",
    "* Enterで編集、Shift-Enterで実行\n",
    "* lで行番号トグル、oで出力領域トグル\n",
    "* `Shift+Command+P`でコマンドパレット表示\n",
    "* キーワード上で`Shift+Tab`でヘルプ等表示"
   ]
  },
  {
   "cell_type": "markdown",
   "metadata": {
    "nbpresent": {
     "id": "97f4d54a-f1aa-47ee-bf54-cc0bef65daa7"
    },
    "slideshow": {
     "slide_type": "slide"
    }
   },
   "source": [
    "## IPython Notebookのアーキテクチャ ##\n",
    "\n",
    "* カーネルとクライアントの2つのプロセスで構成\n",
    "    * ZeroMQを介して通信\n",
    "* 複数クライアントから同一カーネルに接続することも可能\n",
    "    * `%connect_info`マジックコマンド"
   ]
  },
  {
   "cell_type": "code",
   "execution_count": 4,
   "metadata": {
    "collapsed": false,
    "nbpresent": {
     "id": "b10c0a0e-81f1-4200-9058-383285b0bdc9"
    },
    "slideshow": {
     "slide_type": "slide"
    }
   },
   "outputs": [
    {
     "name": "stdout",
     "output_type": "stream",
     "text": [
      "{\n",
      "  \"signature_scheme\": \"hmac-sha256\",\n",
      "  \"ip\": \"127.0.0.1\",\n",
      "  \"key\": \"6a36c8de-3332-4e91-9cee-fcb0136970d8\",\n",
      "  \"kernel_name\": \"\",\n",
      "  \"transport\": \"tcp\",\n",
      "  \"control_port\": 55751,\n",
      "  \"iopub_port\": 55749,\n",
      "  \"shell_port\": 55748,\n",
      "  \"hb_port\": 55752,\n",
      "  \"stdin_port\": 55750\n",
      "}\n",
      "\n",
      "Paste the above JSON into a file, and connect with:\n",
      "    $> jupyter <app> --existing <file>\n",
      "or, if you are local, you can connect with just:\n",
      "    $> jupyter <app> --existing kernel-a5213e62-cec7-4ace-95d2-40b04e0bc594.json\n",
      "or even just:\n",
      "    $> jupyter <app> --existing\n",
      "if this is the most recent Jupyter kernel you have started.\n"
     ]
    }
   ],
   "source": [
    "%connect_info"
   ]
  },
  {
   "cell_type": "markdown",
   "metadata": {
    "nbpresent": {
     "id": "da74cce9-252a-43dc-8025-dabd3cc79334"
    },
    "slideshow": {
     "slide_type": "slide"
    }
   },
   "source": [
    "## 接続方法 ##\n",
    "\n",
    "* 直接ローカルのカーネルを指定\n",
    "    * `jupyter <app> --existing kernel-a5213e62-...`\n",
    "* 先程の結果をfileに保存\n",
    "    * `jupyter <app> --existing <file>`\n",
    "* 最近立ち上げたカーネルに接続\n",
    "    * `jupyter <app> --existing`"
   ]
  },
  {
   "cell_type": "code",
   "execution_count": 30,
   "metadata": {
    "collapsed": true,
    "nbpresent": {
     "id": "3d4e6c6c-e65a-4dd1-89f4-722b62fefa44"
    },
    "slideshow": {
     "slide_type": "subslide"
    }
   },
   "outputs": [],
   "source": [
    "a = 1024"
   ]
  },
  {
   "cell_type": "markdown",
   "metadata": {
    "nbpresent": {
     "id": "15b27842-3641-40e8-b5b4-9cbbfee46953"
    },
    "slideshow": {
     "slide_type": "slide"
    }
   },
   "source": [
    "## さまざまなkernel ##\n",
    "\n",
    "* [ここ](https://github.com/ipython/ipython/wiki/IPython-kernels-for-other-languages)に色々載っています\n",
    "* 代表的なもの\n",
    "    * IJulia, IRuby, IHaskell\n",
    "* インストールされているkernelの確認\n",
    "    * `jupyter kernelspec list`"
   ]
  },
  {
   "cell_type": "markdown",
   "metadata": {
    "nbpresent": {
     "id": "18a4cde7-44f2-4abc-9c80-fc36395bbf9f"
    },
    "slideshow": {
     "slide_type": "slide"
    }
   },
   "source": [
    "## kernelを自作する ##\n",
    "\n",
    "* kernelは自作することも可能\n",
    "    1. kernel定義ファイル(json)を作成しJupyterに登録\n",
    "    2. 定義ファイルで指定したスクリプトを実装\n",
    "* 例\n",
    "    * `y=f(x)`の形でセルを実行するとそれを描画した画像を返すPlotKernelを作成"
   ]
  },
  {
   "cell_type": "markdown",
   "metadata": {
    "nbpresent": {
     "id": "e060e6fb-6f85-4f1a-9d94-0f8f26e70e96"
    },
    "slideshow": {
     "slide_type": "slide"
    }
   },
   "source": [
    "## 1. カーネル定義ファイル(plot/kernel.json) ##\n",
    "\n",
    "* `argv`の部分がセル実行時に実行される\n",
    "``` json:plot/kernel.json\n",
    "{\n",
    " \"argv\": [\"python\", \"-m\",\n",
    "          \"plotkernel\", \"-f\",\n",
    "          \"{connection_file}\"],\n",
    " \"display_name\": \"Plot\",\n",
    " \"language\": \"python\"\n",
    "}\n",
    "```\n",
    "\n",
    "* `jupyter kernelspec install plot --user --replace`で登録\n",
    "\n",
    "    [InstallKernelSpec] Installed kernelspec plot in /Users/wrist/Library/Jupyter/kernels/plot"
   ]
  },
  {
   "cell_type": "markdown",
   "metadata": {
    "nbpresent": {
     "id": "889be83f-89ce-4950-ae11-f9040a7fb7a6"
    },
    "slideshow": {
     "slide_type": "slide"
    }
   },
   "source": [
    "## 2. 実行スクリプト(plotkernel.py)の実装 ##\n",
    "\n",
    "* Jupyterのクライアントとカーネル間\n",
    "    * jsonでメッセージをやり取り\n",
    "* メッセージを解釈するカーネル専用クラスを実装\n",
    "    * `ipykernel.kernelbase`以下のKernelクラスを継承\n",
    "    * 処理実行メソッド、補完メソッドを実装"
   ]
  },
  {
   "cell_type": "markdown",
   "metadata": {
    "nbpresent": {
     "id": "7e0ee611-a497-45f3-8314-c04f5873c3fb"
    },
    "slideshow": {
     "slide_type": "slide"
    }
   },
   "source": [
    "## 必要となるメソッド ##\n",
    "\n",
    "* `do_execute`メソッド\n",
    "    * クライアントからメッセージを受け取った際に実行\n",
    "    * カーネルからクライアントへ返すには`self.send_response`メソッドをこの中で実行\n",
    "* `do_complete`メソッド(任意)\n",
    "    * 実装しておくと補完候補を返すことが可能"
   ]
  },
  {
   "cell_type": "code",
   "execution_count": 6,
   "metadata": {
    "code_folding": [
     9,
     12
    ],
    "collapsed": false,
    "nbpresent": {
     "id": "01959d75-d656-4f5c-8bb0-c411d01e3d9a"
    },
    "slideshow": {
     "slide_type": "slide"
    }
   },
   "outputs": [
    {
     "ename": "NameError",
     "evalue": "name 'Kernel' is not defined",
     "output_type": "error",
     "traceback": [
      "\u001b[0;31m---------------------------------------------------------------------------\u001b[0m",
      "\u001b[0;31mNameError\u001b[0m                                 Traceback (most recent call last)",
      "\u001b[0;32m<ipython-input-6-c6b68cdb4f2a>\u001b[0m in \u001b[0;36m<module>\u001b[0;34m()\u001b[0m\n\u001b[1;32m      1\u001b[0m \u001b[0;31m## plotkernel.py ##\u001b[0m\u001b[0;34m\u001b[0m\u001b[0;34m\u001b[0m\u001b[0m\n\u001b[1;32m      2\u001b[0m \u001b[0;34m\u001b[0m\u001b[0m\n\u001b[0;32m----> 3\u001b[0;31m \u001b[0;32mclass\u001b[0m \u001b[0mPlotKernel\u001b[0m\u001b[0;34m(\u001b[0m\u001b[0mKernel\u001b[0m\u001b[0;34m)\u001b[0m\u001b[0;34m:\u001b[0m\u001b[0;34m\u001b[0m\u001b[0m\n\u001b[0m\u001b[1;32m      4\u001b[0m     def do_execute(self, code, silent,\n\u001b[1;32m      5\u001b[0m                    \u001b[0mstore_history\u001b[0m\u001b[0;34m=\u001b[0m\u001b[0;32mTrue\u001b[0m\u001b[0;34m,\u001b[0m\u001b[0;34m\u001b[0m\u001b[0m\n",
      "\u001b[0;31mNameError\u001b[0m: name 'Kernel' is not defined"
     ]
    }
   ],
   "source": [
    "## plotkernel.py ##\n",
    "\n",
    "class PlotKernel(Kernel):\n",
    "    def do_execute(self, code, silent,\n",
    "                   store_history=True,\n",
    "                   user_expressions=None,\n",
    "                   allow_stdin=False):\n",
    "        # contentはdict\n",
    "        if not silent:\n",
    "            self.send_response(self.iopub_socket, \n",
    "                               'display_data', content)\n",
    "\n",
    "        return {'status': 'ok',\n",
    "                'execution_count': self.execution_count,\n",
    "                'payload': [], 'user_expressions': {},\n",
    "               }\n",
    "\n",
    "if __name__ == '__main__':\n",
    "    from ipykernel.kernelapp import IPKernelApp\n",
    "    IPKernelApp.launch_instance(kernel_class=PlotKernel)"
   ]
  },
  {
   "cell_type": "markdown",
   "metadata": {
    "nbpresent": {
     "id": "acf551f7-5425-49f0-88c7-76f587da6533"
    },
    "slideshow": {
     "slide_type": "slide"
    }
   },
   "source": [
    "## 参考 ##\n",
    "\n",
    "* [PlotKernelのレシピ](https://github.com/osaka-prml-reading/cookbook-code/blob/master/notebooks/chapter01_basic/06_kernel.ipynb)\n",
    "* [Jupyterのドキュメント](https://jupyter-client.readthedocs.io/en/latest/kernels.html)\n",
    "* [IHaskellに関するブログ](http://andrew.gibiansky.com/blog/ipython/ipython-kernels/)"
   ]
  },
  {
   "cell_type": "markdown",
   "metadata": {
    "nbpresent": {
     "id": "464da6ab-aaf0-4980-9d66-aa29ef137f38"
    },
    "slideshow": {
     "slide_type": "slide"
    }
   },
   "source": [
    "## magicコマンドの自作 ##"
   ]
  },
  {
   "cell_type": "markdown",
   "metadata": {
    "nbpresent": {
     "id": "71da048e-4a0b-48b2-925e-0ea371a8df27"
    },
    "slideshow": {
     "slide_type": "slide"
    }
   },
   "source": [
    "## magicコマンド ##\n",
    "\n",
    "* IPython上で動作する専用コマンド\n",
    "* `%`で始まるline magicと`%%`で始まるcell magicが存在\n",
    "\n",
    "    [In 1] %run hoge.py\n",
    "\n",
    "* %lsmagicで一覧を表示可能"
   ]
  },
  {
   "cell_type": "code",
   "execution_count": 7,
   "metadata": {
    "collapsed": false,
    "nbpresent": {
     "id": "6090bf82-2fb1-4e77-9f08-b733fa8abfff"
    },
    "slideshow": {
     "slide_type": "slide"
    }
   },
   "outputs": [
    {
     "data": {
      "application/json": {
       "cell": {
        "!": "OSMagics",
        "HTML": "Other",
        "SVG": "Other",
        "bash": "Other",
        "capture": "ExecutionMagics",
        "debug": "ExecutionMagics",
        "file": "Other",
        "html": "DisplayMagics",
        "javascript": "DisplayMagics",
        "js": "DisplayMagics",
        "latex": "DisplayMagics",
        "perl": "Other",
        "prun": "ExecutionMagics",
        "pypy": "Other",
        "python": "Other",
        "python2": "Other",
        "python3": "Other",
        "ruby": "Other",
        "script": "ScriptMagics",
        "sh": "Other",
        "svg": "DisplayMagics",
        "sx": "OSMagics",
        "system": "OSMagics",
        "time": "ExecutionMagics",
        "timeit": "ExecutionMagics",
        "writefile": "OSMagics"
       },
       "line": {
        "alias": "OSMagics",
        "alias_magic": "BasicMagics",
        "autocall": "AutoMagics",
        "automagic": "AutoMagics",
        "autosave": "KernelMagics",
        "bookmark": "OSMagics",
        "cat": "Other",
        "cd": "OSMagics",
        "clear": "KernelMagics",
        "colors": "BasicMagics",
        "config": "ConfigMagics",
        "connect_info": "KernelMagics",
        "cp": "Other",
        "debug": "ExecutionMagics",
        "dhist": "OSMagics",
        "dirs": "OSMagics",
        "doctest_mode": "BasicMagics",
        "ed": "Other",
        "edit": "KernelMagics",
        "env": "OSMagics",
        "gui": "BasicMagics",
        "hist": "Other",
        "history": "HistoryMagics",
        "killbgscripts": "ScriptMagics",
        "ldir": "Other",
        "less": "KernelMagics",
        "lf": "Other",
        "lk": "Other",
        "ll": "Other",
        "load": "CodeMagics",
        "load_ext": "ExtensionMagics",
        "loadpy": "CodeMagics",
        "logoff": "LoggingMagics",
        "logon": "LoggingMagics",
        "logstart": "LoggingMagics",
        "logstate": "LoggingMagics",
        "logstop": "LoggingMagics",
        "ls": "Other",
        "lsmagic": "BasicMagics",
        "lx": "Other",
        "macro": "ExecutionMagics",
        "magic": "BasicMagics",
        "man": "KernelMagics",
        "matplotlib": "PylabMagics",
        "mkdir": "Other",
        "more": "KernelMagics",
        "mv": "Other",
        "notebook": "BasicMagics",
        "page": "BasicMagics",
        "pastebin": "CodeMagics",
        "pdb": "ExecutionMagics",
        "pdef": "NamespaceMagics",
        "pdoc": "NamespaceMagics",
        "pfile": "NamespaceMagics",
        "pinfo": "NamespaceMagics",
        "pinfo2": "NamespaceMagics",
        "popd": "OSMagics",
        "pprint": "BasicMagics",
        "precision": "BasicMagics",
        "profile": "BasicMagics",
        "prun": "ExecutionMagics",
        "psearch": "NamespaceMagics",
        "psource": "NamespaceMagics",
        "pushd": "OSMagics",
        "pwd": "OSMagics",
        "pycat": "OSMagics",
        "pylab": "PylabMagics",
        "qtconsole": "KernelMagics",
        "quickref": "BasicMagics",
        "recall": "HistoryMagics",
        "rehashx": "OSMagics",
        "reload_ext": "ExtensionMagics",
        "rep": "Other",
        "rerun": "HistoryMagics",
        "reset": "NamespaceMagics",
        "reset_selective": "NamespaceMagics",
        "rm": "Other",
        "rmdir": "Other",
        "run": "ExecutionMagics",
        "save": "CodeMagics",
        "sc": "OSMagics",
        "set_env": "OSMagics",
        "store": "StoreMagics",
        "sx": "OSMagics",
        "system": "OSMagics",
        "tb": "ExecutionMagics",
        "time": "ExecutionMagics",
        "timeit": "ExecutionMagics",
        "unalias": "OSMagics",
        "unload_ext": "ExtensionMagics",
        "who": "NamespaceMagics",
        "who_ls": "NamespaceMagics",
        "whos": "NamespaceMagics",
        "xdel": "NamespaceMagics",
        "xmode": "BasicMagics"
       }
      },
      "text/plain": [
       "Available line magics:\n",
       "%alias  %alias_magic  %autocall  %automagic  %autosave  %bookmark  %cat  %cd  %clear  %colors  %config  %connect_info  %cp  %debug  %dhist  %dirs  %doctest_mode  %ed  %edit  %env  %gui  %hist  %history  %killbgscripts  %ldir  %less  %lf  %lk  %ll  %load  %load_ext  %loadpy  %logoff  %logon  %logstart  %logstate  %logstop  %ls  %lsmagic  %lx  %macro  %magic  %man  %matplotlib  %mkdir  %more  %mv  %notebook  %page  %pastebin  %pdb  %pdef  %pdoc  %pfile  %pinfo  %pinfo2  %popd  %pprint  %precision  %profile  %prun  %psearch  %psource  %pushd  %pwd  %pycat  %pylab  %qtconsole  %quickref  %recall  %rehashx  %reload_ext  %rep  %rerun  %reset  %reset_selective  %rm  %rmdir  %run  %save  %sc  %set_env  %store  %sx  %system  %tb  %time  %timeit  %unalias  %unload_ext  %who  %who_ls  %whos  %xdel  %xmode\n",
       "\n",
       "Available cell magics:\n",
       "%%!  %%HTML  %%SVG  %%bash  %%capture  %%debug  %%file  %%html  %%javascript  %%js  %%latex  %%perl  %%prun  %%pypy  %%python  %%python2  %%python3  %%ruby  %%script  %%sh  %%svg  %%sx  %%system  %%time  %%timeit  %%writefile\n",
       "\n",
       "Automagic is ON, % prefix IS NOT needed for line magics."
      ]
     },
     "execution_count": 7,
     "metadata": {},
     "output_type": "execute_result"
    }
   ],
   "source": [
    "%lsmagic"
   ]
  },
  {
   "cell_type": "markdown",
   "metadata": {
    "nbpresent": {
     "id": "1d7a3057-923f-436e-8cb6-6eabf2c2e481"
    },
    "slideshow": {
     "slide_type": "slide"
    }
   },
   "source": [
    "## magicコマンドの自作 ##\n",
    "\n",
    "* magicコマンド用のメソッドを実装してIPythonに登録\n",
    "* 2種類の登録方法\n",
    "    * デコレータを使う方法\n",
    "        * `@register_line_magic`, `@register_cell_magic`\n",
    "    * %load_extを使ってファイルから読み込む方法"
   ]
  },
  {
   "cell_type": "markdown",
   "metadata": {
    "nbpresent": {
     "id": "ca4003eb-e68a-4695-a657-08a54c1bdae4"
    },
    "slideshow": {
     "slide_type": "slide"
    }
   },
   "source": [
    "## デコレータを使う方法 ##"
   ]
  },
  {
   "cell_type": "code",
   "execution_count": 8,
   "metadata": {
    "code_folding": [],
    "collapsed": false,
    "nbpresent": {
     "id": "eea9223f-7141-4935-b0f5-fe9d231f4545"
    },
    "slideshow": {
     "slide_type": "slide"
    }
   },
   "outputs": [],
   "source": [
    "from IPython.core.magic import (register_line_magic, \n",
    "                                register_cell_magic)\n",
    "\n",
    "@register_line_magic\n",
    "def hello(line):\n",
    "    if line == 'french':\n",
    "        print(\"Salut tout le monde!\")\n",
    "    else:\n",
    "        print(\"Hello world!\")"
   ]
  },
  {
   "cell_type": "markdown",
   "metadata": {
    "nbpresent": {
     "id": "9ef7c6c9-78b4-47ac-be0f-d40dab3a3b87"
    },
    "slideshow": {
     "slide_type": "subslide"
    }
   },
   "source": [
    "<img src=\"./hello.png\">"
   ]
  },
  {
   "cell_type": "code",
   "execution_count": 9,
   "metadata": {
    "collapsed": false,
    "nbpresent": {
     "id": "fde5e628-a5b3-400f-8834-a6d32220a51e"
    },
    "slideshow": {
     "slide_type": "subslide"
    }
   },
   "outputs": [
    {
     "name": "stdout",
     "output_type": "stream",
     "text": [
      "Salut tout le monde!\n"
     ]
    }
   ],
   "source": [
    "%hello french"
   ]
  },
  {
   "cell_type": "code",
   "execution_count": 10,
   "metadata": {
    "collapsed": false,
    "nbpresent": {
     "id": "d3a81cfa-cc40-4793-836c-cb8fe055320a"
    },
    "slideshow": {
     "slide_type": "subslide"
    }
   },
   "outputs": [
    {
     "name": "stdout",
     "output_type": "stream",
     "text": [
      "Hello world!\n"
     ]
    }
   ],
   "source": [
    "%hello world"
   ]
  },
  {
   "cell_type": "code",
   "execution_count": 11,
   "metadata": {
    "collapsed": true,
    "nbpresent": {
     "id": "83218fc8-9e62-4ae1-b032-dd9cf9225de3"
    },
    "slideshow": {
     "slide_type": "slide"
    }
   },
   "outputs": [],
   "source": [
    "import pandas as pd\n",
    "from io import StringIO\n",
    "\n",
    "@register_cell_magic\n",
    "def csv(line, cell):\n",
    "    sio = StringIO(cell)\n",
    "    return pd.read_csv(sio)"
   ]
  },
  {
   "cell_type": "code",
   "execution_count": 12,
   "metadata": {
    "collapsed": false,
    "nbpresent": {
     "id": "cd5eb574-9a60-4ff3-a4ba-b5cc7c719ff1"
    },
    "slideshow": {
     "slide_type": "subslide"
    }
   },
   "outputs": [
    {
     "data": {
      "text/html": [
       "<div>\n",
       "<table border=\"1\" class=\"dataframe\">\n",
       "  <thead>\n",
       "    <tr style=\"text-align: right;\">\n",
       "      <th></th>\n",
       "      <th>col1</th>\n",
       "      <th>col2</th>\n",
       "      <th>col3</th>\n",
       "    </tr>\n",
       "  </thead>\n",
       "  <tbody>\n",
       "    <tr>\n",
       "      <th>0</th>\n",
       "      <td>0</td>\n",
       "      <td>1</td>\n",
       "      <td>2</td>\n",
       "    </tr>\n",
       "    <tr>\n",
       "      <th>1</th>\n",
       "      <td>3</td>\n",
       "      <td>4</td>\n",
       "      <td>5</td>\n",
       "    </tr>\n",
       "    <tr>\n",
       "      <th>2</th>\n",
       "      <td>7</td>\n",
       "      <td>8</td>\n",
       "      <td>9</td>\n",
       "    </tr>\n",
       "  </tbody>\n",
       "</table>\n",
       "</div>"
      ],
      "text/plain": [
       "   col1  col2  col3\n",
       "0     0     1     2\n",
       "1     3     4     5\n",
       "2     7     8     9"
      ]
     },
     "execution_count": 12,
     "metadata": {},
     "output_type": "execute_result"
    }
   ],
   "source": [
    "%%csv\n",
    "col1,col2,col3\n",
    "0,1,2\n",
    "3,4,5\n",
    "7,8,9"
   ]
  },
  {
   "cell_type": "code",
   "execution_count": 13,
   "metadata": {
    "collapsed": false,
    "nbpresent": {
     "id": "63726e95-8acd-454f-9b95-954d4a4a9efe"
    },
    "scrolled": true,
    "slideshow": {
     "slide_type": "subslide"
    }
   },
   "outputs": [
    {
     "data": {
      "text/html": [
       "<div>\n",
       "<table border=\"1\" class=\"dataframe\">\n",
       "  <thead>\n",
       "    <tr style=\"text-align: right;\">\n",
       "      <th></th>\n",
       "      <th>col1</th>\n",
       "      <th>col2</th>\n",
       "      <th>col3</th>\n",
       "    </tr>\n",
       "  </thead>\n",
       "  <tbody>\n",
       "    <tr>\n",
       "      <th>count</th>\n",
       "      <td>3.000000</td>\n",
       "      <td>3.000000</td>\n",
       "      <td>3.000000</td>\n",
       "    </tr>\n",
       "    <tr>\n",
       "      <th>mean</th>\n",
       "      <td>3.333333</td>\n",
       "      <td>4.333333</td>\n",
       "      <td>5.333333</td>\n",
       "    </tr>\n",
       "    <tr>\n",
       "      <th>std</th>\n",
       "      <td>3.511885</td>\n",
       "      <td>3.511885</td>\n",
       "      <td>3.511885</td>\n",
       "    </tr>\n",
       "    <tr>\n",
       "      <th>min</th>\n",
       "      <td>0.000000</td>\n",
       "      <td>1.000000</td>\n",
       "      <td>2.000000</td>\n",
       "    </tr>\n",
       "    <tr>\n",
       "      <th>25%</th>\n",
       "      <td>1.500000</td>\n",
       "      <td>2.500000</td>\n",
       "      <td>3.500000</td>\n",
       "    </tr>\n",
       "    <tr>\n",
       "      <th>50%</th>\n",
       "      <td>3.000000</td>\n",
       "      <td>4.000000</td>\n",
       "      <td>5.000000</td>\n",
       "    </tr>\n",
       "    <tr>\n",
       "      <th>75%</th>\n",
       "      <td>5.000000</td>\n",
       "      <td>6.000000</td>\n",
       "      <td>7.000000</td>\n",
       "    </tr>\n",
       "    <tr>\n",
       "      <th>max</th>\n",
       "      <td>7.000000</td>\n",
       "      <td>8.000000</td>\n",
       "      <td>9.000000</td>\n",
       "    </tr>\n",
       "  </tbody>\n",
       "</table>\n",
       "</div>"
      ],
      "text/plain": [
       "           col1      col2      col3\n",
       "count  3.000000  3.000000  3.000000\n",
       "mean   3.333333  4.333333  5.333333\n",
       "std    3.511885  3.511885  3.511885\n",
       "min    0.000000  1.000000  2.000000\n",
       "25%    1.500000  2.500000  3.500000\n",
       "50%    3.000000  4.000000  5.000000\n",
       "75%    5.000000  6.000000  7.000000\n",
       "max    7.000000  8.000000  9.000000"
      ]
     },
     "execution_count": 13,
     "metadata": {},
     "output_type": "execute_result"
    }
   ],
   "source": [
    "df = _\n",
    "df.describe()"
   ]
  },
  {
   "cell_type": "code",
   "execution_count": 14,
   "metadata": {
    "collapsed": false,
    "nbpresent": {
     "id": "14891aee-5eb8-44ae-8c5b-03f2d2323e90"
    },
    "slideshow": {
     "slide_type": "slide"
    }
   },
   "outputs": [
    {
     "data": {
      "application/json": {
       "cell": {
        "!": "OSMagics",
        "HTML": "Other",
        "SVG": "Other",
        "bash": "Other",
        "capture": "ExecutionMagics",
        "csv": "Other",
        "debug": "ExecutionMagics",
        "file": "Other",
        "html": "DisplayMagics",
        "javascript": "DisplayMagics",
        "js": "DisplayMagics",
        "latex": "DisplayMagics",
        "perl": "Other",
        "prun": "ExecutionMagics",
        "pypy": "Other",
        "python": "Other",
        "python2": "Other",
        "python3": "Other",
        "ruby": "Other",
        "script": "ScriptMagics",
        "sh": "Other",
        "svg": "DisplayMagics",
        "sx": "OSMagics",
        "system": "OSMagics",
        "time": "ExecutionMagics",
        "timeit": "ExecutionMagics",
        "writefile": "OSMagics"
       },
       "line": {
        "alias": "OSMagics",
        "alias_magic": "BasicMagics",
        "autocall": "AutoMagics",
        "automagic": "AutoMagics",
        "autosave": "KernelMagics",
        "bookmark": "OSMagics",
        "cat": "Other",
        "cd": "OSMagics",
        "clear": "KernelMagics",
        "colors": "BasicMagics",
        "config": "ConfigMagics",
        "connect_info": "KernelMagics",
        "cp": "Other",
        "debug": "ExecutionMagics",
        "dhist": "OSMagics",
        "dirs": "OSMagics",
        "doctest_mode": "BasicMagics",
        "ed": "Other",
        "edit": "KernelMagics",
        "env": "OSMagics",
        "gui": "BasicMagics",
        "hello": "Other",
        "hist": "Other",
        "history": "HistoryMagics",
        "killbgscripts": "ScriptMagics",
        "ldir": "Other",
        "less": "KernelMagics",
        "lf": "Other",
        "lk": "Other",
        "ll": "Other",
        "load": "CodeMagics",
        "load_ext": "ExtensionMagics",
        "loadpy": "CodeMagics",
        "logoff": "LoggingMagics",
        "logon": "LoggingMagics",
        "logstart": "LoggingMagics",
        "logstate": "LoggingMagics",
        "logstop": "LoggingMagics",
        "ls": "Other",
        "lsmagic": "BasicMagics",
        "lx": "Other",
        "macro": "ExecutionMagics",
        "magic": "BasicMagics",
        "man": "KernelMagics",
        "matplotlib": "PylabMagics",
        "mkdir": "Other",
        "more": "KernelMagics",
        "mv": "Other",
        "notebook": "BasicMagics",
        "page": "BasicMagics",
        "pastebin": "CodeMagics",
        "pdb": "ExecutionMagics",
        "pdef": "NamespaceMagics",
        "pdoc": "NamespaceMagics",
        "pfile": "NamespaceMagics",
        "pinfo": "NamespaceMagics",
        "pinfo2": "NamespaceMagics",
        "popd": "OSMagics",
        "pprint": "BasicMagics",
        "precision": "BasicMagics",
        "profile": "BasicMagics",
        "prun": "ExecutionMagics",
        "psearch": "NamespaceMagics",
        "psource": "NamespaceMagics",
        "pushd": "OSMagics",
        "pwd": "OSMagics",
        "pycat": "OSMagics",
        "pylab": "PylabMagics",
        "qtconsole": "KernelMagics",
        "quickref": "BasicMagics",
        "recall": "HistoryMagics",
        "rehashx": "OSMagics",
        "reload_ext": "ExtensionMagics",
        "rep": "Other",
        "rerun": "HistoryMagics",
        "reset": "NamespaceMagics",
        "reset_selective": "NamespaceMagics",
        "rm": "Other",
        "rmdir": "Other",
        "run": "ExecutionMagics",
        "save": "CodeMagics",
        "sc": "OSMagics",
        "set_env": "OSMagics",
        "store": "StoreMagics",
        "sx": "OSMagics",
        "system": "OSMagics",
        "tb": "ExecutionMagics",
        "time": "ExecutionMagics",
        "timeit": "ExecutionMagics",
        "unalias": "OSMagics",
        "unload_ext": "ExtensionMagics",
        "who": "NamespaceMagics",
        "who_ls": "NamespaceMagics",
        "whos": "NamespaceMagics",
        "xdel": "NamespaceMagics",
        "xmode": "BasicMagics"
       }
      },
      "text/plain": [
       "Available line magics:\n",
       "%alias  %alias_magic  %autocall  %automagic  %autosave  %bookmark  %cat  %cd  %clear  %colors  %config  %connect_info  %cp  %debug  %dhist  %dirs  %doctest_mode  %ed  %edit  %env  %gui  %hello  %hist  %history  %killbgscripts  %ldir  %less  %lf  %lk  %ll  %load  %load_ext  %loadpy  %logoff  %logon  %logstart  %logstate  %logstop  %ls  %lsmagic  %lx  %macro  %magic  %man  %matplotlib  %mkdir  %more  %mv  %notebook  %page  %pastebin  %pdb  %pdef  %pdoc  %pfile  %pinfo  %pinfo2  %popd  %pprint  %precision  %profile  %prun  %psearch  %psource  %pushd  %pwd  %pycat  %pylab  %qtconsole  %quickref  %recall  %rehashx  %reload_ext  %rep  %rerun  %reset  %reset_selective  %rm  %rmdir  %run  %save  %sc  %set_env  %store  %sx  %system  %tb  %time  %timeit  %unalias  %unload_ext  %who  %who_ls  %whos  %xdel  %xmode\n",
       "\n",
       "Available cell magics:\n",
       "%%!  %%HTML  %%SVG  %%bash  %%capture  %%csv  %%debug  %%file  %%html  %%javascript  %%js  %%latex  %%perl  %%prun  %%pypy  %%python  %%python2  %%python3  %%ruby  %%script  %%sh  %%svg  %%sx  %%system  %%time  %%timeit  %%writefile\n",
       "\n",
       "Automagic is ON, % prefix IS NOT needed for line magics."
      ]
     },
     "execution_count": 14,
     "metadata": {},
     "output_type": "execute_result"
    }
   ],
   "source": [
    "%lsmagic"
   ]
  },
  {
   "cell_type": "code",
   "execution_count": 15,
   "metadata": {
    "collapsed": true,
    "nbpresent": {
     "id": "b83c36c2-b874-430f-ae65-d06c6da04c48"
    },
    "slideshow": {
     "slide_type": "skip"
    }
   },
   "outputs": [],
   "source": [
    "%matplotlib inline"
   ]
  },
  {
   "cell_type": "markdown",
   "metadata": {
    "nbpresent": {
     "id": "17037a75-aa8e-440f-91e9-6dcb714a3c2e"
    },
    "slideshow": {
     "slide_type": "slide"
    }
   },
   "source": [
    "## %load_extで読み込む方法 ##\n",
    "\n",
    "* 下記のような`load_ipython_extension`メソッドを実装\n",
    "    * 下記ではcsvメソッドをcell magicとして登録\n",
    "\n",
    "```python\n",
    "def load_ipython_extension(ipython):\n",
    "    ipython.register_magic_function(csv, 'cell')\n",
    "```"
   ]
  },
  {
   "cell_type": "code",
   "execution_count": 16,
   "metadata": {
    "code_folding": [],
    "collapsed": false,
    "nbpresent": {
     "id": "ca86f635-409f-4051-9b81-4d5357f5f98e"
    },
    "slideshow": {
     "slide_type": "subslide"
    }
   },
   "outputs": [
    {
     "name": "stdout",
     "output_type": "stream",
     "text": [
      "Overwriting freqz_magic.py\n"
     ]
    }
   ],
   "source": [
    "%%writefile freqz_magic.py\n",
    "\n",
    "import numpy as np\n",
    "import scipy.signal as sg\n",
    "import matplotlib.pyplot as plt\n",
    "\n",
    "def freqz_plot(line, cell):\n",
    "    # line, cellをparse\n",
    "    N, FS = [float(v) for v in line.split()]\n",
    "    ba = cell.split(\"\\n\")\n",
    "    b = [float(v) for v in ba[0].split(\",\")]\n",
    "    a = [float(v) for v in ba[1].split(\",\")]\n",
    "\n",
    "    # 時間特性、周波数特性、位相特性、群遅延特性等を計算\n",
    "    w, h = sg.freqz(b, a, worN=int(N))\n",
    "    f = w * FS / (2.0 * np.pi)\n",
    "    z, p, k = sg.tf2zpk(b, a)\n",
    "    _, gd = sg.group_delay((b, a), w=w)\n",
    "\n",
    "    # 上記パラメータをプロット\n",
    "    fig = plt.figure(1, figsize=(8, 12))\n",
    "    \n",
    "    ax = fig.add_subplot(321)\n",
    "    ax.plot(b, \"o-\")\n",
    "    ax.plot(a, \"x-\")\n",
    "    ax.grid()\n",
    "    ax.set_xlabel(\"time [pt]\")\n",
    "    ax.set_ylabel(\"amplitude\")\n",
    "    \n",
    "    ax = fig.add_subplot(322)\n",
    "    ax.semilogx(f, 20.0 * np.log10(np.abs(h)))\n",
    "    ax.grid()\n",
    "    ax.set_xlabel(\"frequency [Hz]\")\n",
    "    ax.set_ylabel(\"power [dB]\")\n",
    "    ax.set_xlim([10.0, FS/2.0])\n",
    "    ax.set_ylim([-40.0, 10.0])\n",
    "\n",
    "    ax = fig.add_subplot(323)\n",
    "    ax.semilogx(f, np.angle(h))\n",
    "    ax.grid()\n",
    "    ax.set_xlim([10.0, FS/2.0])\n",
    "    ax.set_ylim([-np.pi, np.pi])\n",
    "    ax.set_xlabel(\"frequency [Hz]\")\n",
    "    ax.set_ylabel(\"phase [rad]\")\n",
    "    \n",
    "    ax = fig.add_subplot(324)\n",
    "    ax.semilogx(f, gd)\n",
    "    ax.grid()\n",
    "    ax.set_xlabel(\"frequency [Hz]\")\n",
    "    ax.set_ylabel(\"group delay [pt]\")\n",
    "    ax.set_xlim([10.0, FS/2.0])\n",
    "    ax.set_ylim([-40.0, 40.0])\n",
    "\n",
    "    ax = fig.add_subplot(325)\n",
    "    ax.add_patch(plt.Circle((0.0, 0.0), 1.0, fc=\"white\"))\n",
    "    ax.plot(np.real(z), np.imag(z), \"o\", mfc=\"white\")\n",
    "    ax.plot(np.real(p), np.imag(p), \"x\", mfc=\"white\")\n",
    "    ax.grid()\n",
    "    ax.set_xlim([-1.5, 1.5])\n",
    "    ax.set_ylim([-1.5, 1.5])\n",
    "\n",
    "    plt.show()\n",
    "\n",
    "    \n",
    "def load_ipython_extension(ipython):\n",
    "    ipython.register_magic_function(freqz_plot, 'cell')"
   ]
  },
  {
   "cell_type": "code",
   "execution_count": 17,
   "metadata": {
    "collapsed": false,
    "nbpresent": {
     "id": "b512c25f-e223-4fcf-83bc-59795f4ba864"
    },
    "slideshow": {
     "slide_type": "subslide"
    }
   },
   "outputs": [],
   "source": [
    "%load_ext freqz_magic"
   ]
  },
  {
   "cell_type": "code",
   "execution_count": 18,
   "metadata": {
    "collapsed": false,
    "nbpresent": {
     "id": "ed87d72c-e36c-4470-94cf-4a789fbb33ef"
    },
    "slideshow": {
     "slide_type": "subslide"
    }
   },
   "outputs": [
    {
     "data": {
      "image/png": "[encoded data removed]",
      "text/plain": [
       "<matplotlib.figure.Figure at 0x1049f9860>"
      ]
     },
     "metadata": {},
     "output_type": "display_data"
    }
   ],
   "source": [
    "%%freqz_plot 1024 16000.0\n",
    "1.0, -0.97\n",
    "1.0"
   ]
  },
  {
   "cell_type": "code",
   "execution_count": 21,
   "metadata": {
    "collapsed": false,
    "nbpresent": {
     "id": "f7b57b03-2b05-4e75-b361-edc65e2d5b4c"
    },
    "slideshow": {
     "slide_type": "subslide"
    }
   },
   "outputs": [
    {
     "data": {
      "text/plain": [
       "([0.81, -1.6629831585203161, 1.0], [1.0, -1.6629831585203161, 0.81])"
      ]
     },
     "execution_count": 21,
     "metadata": {},
     "output_type": "execute_result"
    }
   ],
   "source": [
    "import numpy as np\n",
    "\n",
    "# all pass filterを設計\n",
    "FS = 16000.0 # サンプリング周波数\n",
    "omega = 2.0 * np.pi * 1000.0 / FS # 正規化周波数\n",
    "r = 0.9 # 極半径\n",
    "\n",
    "B = [ r**2, -2.0 * r * np.cos(omega), 1.0 ]\n",
    "A = [ 1.0,  -2.0 * r * np.cos(omega), r**2]\n",
    "B, A"
   ]
  },
  {
   "cell_type": "code",
   "execution_count": 22,
   "metadata": {
    "collapsed": false,
    "nbpresent": {
     "id": "fb2f59ee-afd1-4d4d-a2bd-419fae16b09c"
    },
    "scrolled": false,
    "slideshow": {
     "slide_type": "subslide"
    }
   },
   "outputs": [
    {
     "data": {
      "image/png": "[encoded data removed]",
      "text/plain": [
       "<matplotlib.figure.Figure at 0x1182a3f60>"
      ]
     },
     "metadata": {},
     "output_type": "display_data"
    }
   ],
   "source": [
    "%%freqz_plot 1024 16000.0\n",
    "0.81, -1.6629831585203161, 1.0\n",
    "1.0 , -1.6629831585203161, 0.81"
   ]
  },
  {
   "cell_type": "code",
   "execution_count": 2,
   "metadata": {
    "collapsed": false,
    "nbpresent": {
     "id": "654c9fdc-4cd4-4c6d-87cf-7975c783a38a"
    },
    "slideshow": {
     "slide_type": "subslide"
    }
   },
   "outputs": [
    {
     "data": {
      "text/plain": [
       "array([ 0.        ,  0.00547868,  0.04276364,  0.12151889,  0.20757905,\n",
       "        0.24531949,  0.20757905,  0.12151889,  0.04276364,  0.00547868,  0.        ])"
      ]
     },
     "execution_count": 2,
     "metadata": {},
     "output_type": "execute_result"
    }
   ],
   "source": [
    "import scipy as sp\n",
    "import scipy.signal as sg\n",
    "\n",
    "# 線形位相フィルタを設計\n",
    "sg.firwin(11, 0.2, window=\"han\")"
   ]
  },
  {
   "cell_type": "code",
   "execution_count": 25,
   "metadata": {
    "collapsed": false,
    "nbpresent": {
     "id": "c03e21b6-a2cf-42da-b1a3-acc84cca936e"
    },
    "slideshow": {
     "slide_type": "subslide"
    }
   },
   "outputs": [
    {
     "name": "stderr",
     "output_type": "stream",
     "text": [
      "/Users/wrist/.pyenv/versions/miniconda3-latest/envs/scientific/lib/python3.5/site-packages/scipy/signal/filter_design.py:1057: BadCoefficients: Badly conditioned filter coefficients (numerator): the results may be meaningless\n",
      "  \"results may be meaningless\", BadCoefficients)\n"
     ]
    },
    {
     "data": {
      "image/png": "[encoded data removed]",
      "text/plain": [
       "<matplotlib.figure.Figure at 0x1177b3208>"
      ]
     },
     "metadata": {},
     "output_type": "display_data"
    }
   ],
   "source": [
    "%%freqz_plot 2048 16000.0\n",
    "0.        ,  0.00547868,  0.04276364,  0.12151889,  0.20757905,        0.24531949,  0.20757905,  0.12151889,  0.04276364,  0.00547868,  0.0 \n",
    "1.0"
   ]
  },
  {
   "cell_type": "markdown",
   "metadata": {
    "nbpresent": {
     "id": "7680ba57-a4ef-4387-a884-2108569de290"
    },
    "slideshow": {
     "slide_type": "slide"
    }
   },
   "source": [
    "## Widget ##"
   ]
  },
  {
   "cell_type": "markdown",
   "metadata": {
    "nbpresent": {
     "id": "342a1c23-46fc-4b0e-a62f-cc1429b785fa"
    },
    "slideshow": {
     "slide_type": "slide"
    }
   },
   "source": [
    "## Jupyter NotebookにおけるWidget ##\n",
    "\n",
    "* 対話型のWidgetを作成可能\n",
    "    * スライダーやテキストボックスなどのUIをNotebook上に作成"
   ]
  },
  {
   "cell_type": "code",
   "execution_count": 3,
   "metadata": {
    "collapsed": false,
    "nbpresent": {
     "id": "2fc3fe09-cf63-482f-9445-04dd6a501170"
    },
    "scrolled": true,
    "slideshow": {
     "slide_type": "slide"
    }
   },
   "outputs": [
    {
     "data": {
      "image/png": "[encoded data removed]",
      "text/plain": [
       "<matplotlib.figure.Figure at 0x10f400710>"
      ]
     },
     "metadata": {},
     "output_type": "display_data"
    }
   ],
   "source": [
    "import matplotlib.pyplot as plt\n",
    "from ipywidgets import interact\n",
    "\n",
    "max_ntap = 2 ** 12\n",
    "wins = [\"boxcar\", \"triang\", \"blackman\", \"hamming\", \"hann\", \n",
    "        \"bartlett\", \"flattop\", \"parzen\", \"bohman\", \"blackmanharris\",\n",
    "        \"nuttall\", \"barthann\", \"kaiser\", \"gaussian\", \"general_gaussian\",\n",
    "        \"slepian\", \"chebwin\", \"exponential\", \"tukey\" ]\n",
    "\n",
    "# 文字列はテキストボックス、タプルはスライダー、文字列タプルはセレクトボックス、真偽値はチェックボックスになる\n",
    "@interact(ntap=[1, max_ntap], window=wins, param1=\"\", param2=\"\")\n",
    "def firwin_plot(ntap, window, param1, param2):\n",
    "    b = sg.firwin(ntap, 0.2, window=window)\n",
    "    plt.figure(figsize=(8,4));\n",
    "    plt.plot(b)\n",
    "    plt.grid()\n",
    "    plt.xlim([0, ntap])\n",
    "    plt.xlabel(param1)\n",
    "    plt.ylabel(param2)\n",
    "    plt.show();"
   ]
  },
  {
   "cell_type": "markdown",
   "metadata": {
    "nbpresent": {
     "id": "cb21165b-3ef9-4d36-82dd-04d66111cbc7"
    },
    "slideshow": {
     "slide_type": "slide"
    }
   },
   "source": [
    "* 公式に載っている例\n",
    "    * https://jupyter.org/widgets.html"
   ]
  },
  {
   "cell_type": "markdown",
   "metadata": {
    "nbpresent": {
     "id": "84d56b30-c05e-4639-a65b-1068caf92167"
    },
    "slideshow": {
     "slide_type": "slide"
    }
   },
   "source": [
    "# extension #"
   ]
  },
  {
   "cell_type": "markdown",
   "metadata": {
    "nbpresent": {
     "id": "34ff0c13-f094-424f-944c-71130b474542"
    },
    "slideshow": {
     "slide_type": "slide"
    }
   },
   "source": [
    "## 非公式extension集\n",
    "\n",
    "* [ipython-contrib/jupyter_contrib_nbextensions](https://github.com/ipython-contrib/jupyter_contrib_nbextensions)\n",
    "    * 色々と便利なextensionが一括で入る\n",
    "* [Jupyter-contrib/jupyter_nbextensions_configurator](https://github.com/Jupyter-contrib/jupyter_nbextensions_configurator)\n",
    "    * Notebook Homeから機能オンオフが可能"
   ]
  },
  {
   "cell_type": "markdown",
   "metadata": {
    "nbpresent": {
     "id": "fee5865c-8252-43b1-9575-57cbe1383d91"
    },
    "slideshow": {
     "slide_type": "slide"
    }
   },
   "source": [
    "## 周辺ツール ##"
   ]
  },
  {
   "cell_type": "markdown",
   "metadata": {
    "nbpresent": {
     "id": "3d5e7ea6-2715-46d5-aadb-0e92fc201f26"
    },
    "slideshow": {
     "slide_type": "slide"
    }
   },
   "source": [
    "## jupyterhub ##\n",
    "\n",
    "* https://github.com/jupyterhub/jupyterhub\n",
    "* マルチユーザで使えるJupyter Notebookを構築可能\n",
    "* 学校の講義や共同研究などで使うと便利\n",
    "* nodejsに依存\n",
    "* 使ったことはないですが紹介"
   ]
  },
  {
   "cell_type": "markdown",
   "metadata": {
    "nbpresent": {
     "id": "b491fc86-8051-454a-ae40-5804e72b9ccd"
    },
    "slideshow": {
     "slide_type": "slide"
    }
   },
   "source": [
    "## nbconvert ##\n",
    "\n",
    "* ipynbファイルをさまざまな形式への変換が可能\n",
    "    * 'html', 'latex', 'markdown', 'notebook', 'pdf', 'python', 'rst', 'script', 'slides', ...\n",
    "* ipynbファイルをslideへ変換\n",
    "\n",
    "```sh\n",
    "jupyter nbconvert --to slides AboutJupyterForPyData.ipynb\n",
    "```"
   ]
  },
  {
   "cell_type": "markdown",
   "metadata": {
    "nbpresent": {
     "id": "0999bf0d-c06e-4a9e-83b9-4901f443a0e3"
    },
    "slideshow": {
     "slide_type": "slide"
    }
   },
   "source": [
    "## nbpresent ##\n",
    "\n",
    "* [Anaconda-Platform/nbpresent](https://github.com/Anaconda-Platform/nbpresent)\n",
    "    * `conda install -c conda-forge nbpresent`\n",
    "* nbconvertでのreveal.jsを用いたslideへの変換に近い変換を動的に実行\n",
    "    * jupyter notebookから直接実行可能\n",
    "    * GUIで直感的に編集可能\n",
    "* [damianavila/RISE](https://github.com/damianavila/RISE)プロジェクトに影響"
   ]
  },
  {
   "cell_type": "markdown",
   "metadata": {
    "nbpresent": {
     "id": "9c9285e9-6844-48b6-91a1-300a3727d61d"
    },
    "slideshow": {
     "slide_type": "slide"
    }
   },
   "source": [
    "## jupyterlab ##"
   ]
  },
  {
   "cell_type": "markdown",
   "metadata": {
    "collapsed": true,
    "nbpresent": {
     "id": "6df9a26a-d7fd-4b44-9c76-2c114c8ccf43"
    },
    "slideshow": {
     "slide_type": "slide"
    }
   },
   "source": [
    "## jupyterlab #\n",
    "\n",
    "* [jupyterlab](https://github.com/jupyterlab/jupyterlab)\n",
    "    * ブラウザ上にエディタ、コンソール、ノートブック、ターミナルを同居可能な新しい計算環境(現状α)\n",
    "* インストール\n",
    "    `conda install -c conda-forge jupyterlab`\n",
    "* 実行\n",
    "    `jupyter lab`"
   ]
  },
  {
   "cell_type": "markdown",
   "metadata": {
    "nbpresent": {
     "id": "2ee7ab9b-a90c-4527-8037-867468576168"
    },
    "slideshow": {
     "slide_type": "slide"
    }
   },
   "source": [
    "## 以上 ##\n",
    "\n",
    "* ご静聴ありがとうございました。"
   ]
  }
 ],
 "metadata": {
  "anaconda-cloud": {},
  "celltoolbar": "Slideshow",
  "kernelspec": {
   "display_name": "Python [conda env:scientific]",
   "language": "python",
   "name": "conda-env-scientific-py"
  },
  "language_info": {
   "codemirror_mode": {
    "name": "ipython",
    "version": 3
   },
   "file_extension": ".py",
   "mimetype": "text/x-python",
   "name": "python",
   "nbconvert_exporter": "python",
   "pygments_lexer": "ipython3",
   "version": "3.5.2"
  },
  "nav_menu": {},
  "nbpresent": {
   "slides": {
    "06184d95-d11a-44ee-ada4-0f2ca43d585f": {
     "id": "06184d95-d11a-44ee-ada4-0f2ca43d585f",
     "prev": "bb09c534-3a85-4a34-80f6-9e91066392e4",
     "regions": {
      "44d2375e-5df1-4322-8f7d-7a4b74d67a7c": {
       "attrs": {
        "height": 0.8,
        "width": 0.8,
        "x": 0.1,
        "y": 0.1
       },
       "content": {
        "cell": "9c9285e9-6844-48b6-91a1-300a3727d61d",
        "part": "whole"
       },
       "id": "44d2375e-5df1-4322-8f7d-7a4b74d67a7c"
      }
     }
    },
    "07238544-06ad-4597-929a-1dc98af9242f": {
     "id": "07238544-06ad-4597-929a-1dc98af9242f",
     "prev": "40a3b967-44ae-4a91-b14a-6b555e79ca3c",
     "regions": {
      "3a93fe25-990b-4944-8458-f026ccfe824f": {
       "attrs": {
        "height": 0.8,
        "width": 0.8,
        "x": 0.1,
        "y": 0.1
       },
       "content": {
        "cell": "15b27842-3641-40e8-b5b4-9cbbfee46953",
        "part": "whole"
       },
       "id": "3a93fe25-990b-4944-8458-f026ccfe824f"
      }
     }
    },
    "0e570cca-bbaf-42dd-ab8e-a656f266117f": {
     "id": "0e570cca-bbaf-42dd-ab8e-a656f266117f",
     "prev": "80a01fa2-2b89-4bfd-8046-2432a47b4ac0",
     "regions": {
      "ecc5cdc3-e841-41f3-9dce-21ef6d9db33e": {
       "attrs": {
        "height": 0.8,
        "width": 0.8,
        "x": 0.1,
        "y": 0.1
       },
       "content": {
        "cell": "eea9223f-7141-4935-b0f5-fe9d231f4545",
        "part": "whole"
       },
       "id": "ecc5cdc3-e841-41f3-9dce-21ef6d9db33e"
      }
     }
    },
    "126b8030-05ff-4427-b246-0a891dcb0b31": {
     "id": "126b8030-05ff-4427-b246-0a891dcb0b31",
     "prev": "acef3b80-9513-4709-97c7-b6a2a89c02aa",
     "regions": {
      "c5b287c0-9b58-4e38-946f-b69821801b2b": {
       "attrs": {
        "height": 0.8,
        "width": 0.8,
        "x": 0.1,
        "y": 0.1
       },
       "content": {
        "cell": "e8b4da59-a499-46bc-9b9e-d5d60a038814",
        "part": "whole"
       },
       "id": "c5b287c0-9b58-4e38-946f-b69821801b2b"
      }
     }
    },
    "1419fc09-54e4-4ebb-a8fb-24601234a85e": {
     "id": "1419fc09-54e4-4ebb-a8fb-24601234a85e",
     "prev": "e7001a0a-419a-4d6c-bce1-e9a7b659f9a1",
     "regions": {
      "983b58d4-828d-4c6d-9431-746ed63bc203": {
       "attrs": {
        "height": 0.8,
        "width": 0.8,
        "x": 0.1,
        "y": 0.1
       },
       "content": {
        "cell": "34ff0c13-f094-424f-944c-71130b474542",
        "part": "whole"
       },
       "id": "983b58d4-828d-4c6d-9431-746ed63bc203"
      }
     }
    },
    "166dc242-4a26-4330-9132-a5dd6ae40f69": {
     "id": "166dc242-4a26-4330-9132-a5dd6ae40f69",
     "prev": "506d8bb0-eb96-47fd-815e-72ad89b6e3fa",
     "regions": {
      "ee33290c-7836-4b05-88a1-14fd53d3f05c": {
       "attrs": {
        "height": 0.8,
        "width": 0.8,
        "x": 0.1,
        "y": 0.1
       },
       "content": {
        "cell": "7fe079b0-ea86-4c06-aecb-f3a6fb5e09ff",
        "part": "whole"
       },
       "id": "ee33290c-7836-4b05-88a1-14fd53d3f05c"
      }
     }
    },
    "193d7417-65d6-45ac-ac95-43317f66da9a": {
     "id": "193d7417-65d6-45ac-ac95-43317f66da9a",
     "prev": "c0da70de-d7e1-4528-ac6d-4d01a51e4b06",
     "regions": {
      "f95102fe-4805-478e-b795-bc8d95cf6ef4": {
       "attrs": {
        "height": 0.8,
        "width": 0.8,
        "x": 0.1,
        "y": 0.1
       },
       "content": {
        "cell": "ca86f635-409f-4051-9b81-4d5357f5f98e",
        "part": "whole"
       },
       "id": "f95102fe-4805-478e-b795-bc8d95cf6ef4"
      }
     }
    },
    "1b27bee1-b9a8-4a13-b86b-565496537cf2": {
     "id": "1b27bee1-b9a8-4a13-b86b-565496537cf2",
     "prev": "df63a93e-a173-43b0-9f53-f6b9b67c6ebc",
     "regions": {
      "ba35e919-ec7f-4478-8118-67cb01e2006f": {
       "attrs": {
        "height": 0.8,
        "width": 0.8,
        "x": 0.1,
        "y": 0.1
       },
       "content": {
        "cell": "2ef5a31e-88f7-4cd3-8fde-4ebedac21b3b",
        "part": "whole"
       },
       "id": "ba35e919-ec7f-4478-8118-67cb01e2006f"
      }
     }
    },
    "1cf5f71c-e32a-44b1-a437-2270d94e3c19": {
     "id": "1cf5f71c-e32a-44b1-a437-2270d94e3c19",
     "prev": "fa5c9cd9-9832-40e6-a788-7aba755047b1",
     "regions": {
      "820fac33-9f7a-44cc-b70c-d263032cdcd8": {
       "attrs": {
        "height": 0.8,
        "width": 0.8,
        "x": 0.1,
        "y": 0.1
       },
       "content": {
        "cell": "1d7a3057-923f-436e-8cb6-6eabf2c2e481",
        "part": "whole"
       },
       "id": "820fac33-9f7a-44cc-b70c-d263032cdcd8"
      }
     }
    },
    "1f203937-2cfa-4117-810a-ee7fd9ca139f": {
     "id": "1f203937-2cfa-4117-810a-ee7fd9ca139f",
     "prev": "209dd8e6-22a4-4426-a936-acfbdc02e318",
     "regions": {
      "5a331c01-78da-4370-b1ee-94f2869058d5": {
       "attrs": {
        "height": 0.8,
        "width": 0.8,
        "x": 0.1,
        "y": 0.1
       },
       "content": {
        "cell": "3d5e7ea6-2715-46d5-aadb-0e92fc201f26",
        "part": "whole"
       },
       "id": "5a331c01-78da-4370-b1ee-94f2869058d5"
      }
     }
    },
    "209dd8e6-22a4-4426-a936-acfbdc02e318": {
     "id": "209dd8e6-22a4-4426-a936-acfbdc02e318",
     "prev": "1419fc09-54e4-4ebb-a8fb-24601234a85e",
     "regions": {
      "8860dce8-e6db-4969-9342-5da6d27bc9a3": {
       "attrs": {
        "height": 0.8,
        "width": 0.8,
        "x": 0.1,
        "y": 0.1
       },
       "content": {
        "cell": "fee5865c-8252-43b1-9575-57cbe1383d91",
        "part": "whole"
       },
       "id": "8860dce8-e6db-4969-9342-5da6d27bc9a3"
      }
     }
    },
    "21e3fc01-a6f2-454f-a540-26d30c343335": {
     "id": "21e3fc01-a6f2-454f-a540-26d30c343335",
     "prev": "5819eab5-2878-41df-9338-8a9e18d93d42",
     "regions": {
      "878a67a5-eef5-4d88-ad55-7596dc07c3dc": {
       "attrs": {
        "height": 0.8,
        "width": 0.8,
        "x": 0.1,
        "y": 0.1
       },
       "content": {
        "cell": "da74cce9-252a-43dc-8025-dabd3cc79334",
        "part": "whole"
       },
       "id": "878a67a5-eef5-4d88-ad55-7596dc07c3dc"
      }
     }
    },
    "27c29b1a-5034-45f9-8f3f-fee1b5055988": {
     "id": "27c29b1a-5034-45f9-8f3f-fee1b5055988",
     "prev": "acadbaf3-a813-4071-a8ea-65774f880f29",
     "regions": {
      "ae4e6cc0-25e3-4c7f-aafd-8538f34648ed": {
       "attrs": {
        "height": 0.8,
        "width": 0.8,
        "x": 0.1,
        "y": 0.1
       },
       "content": {
        "cell": "83218fc8-9e62-4ae1-b032-dd9cf9225de3",
        "part": "whole"
       },
       "id": "ae4e6cc0-25e3-4c7f-aafd-8538f34648ed"
      }
     }
    },
    "2ece291b-a8a4-4008-928d-47a1ff7d27b6": {
     "id": "2ece291b-a8a4-4008-928d-47a1ff7d27b6",
     "prev": "fecb5cd1-89e9-499f-84b9-133c81ec7a57",
     "regions": {
      "f77ee329-2a9f-462d-b9cd-007ed4ba0bb7": {
       "attrs": {
        "height": 0.8,
        "width": 0.8,
        "x": 0.1,
        "y": 0.1
       },
       "content": {
        "cell": "7680ba57-a4ef-4387-a884-2108569de290",
        "part": "whole"
       },
       "id": "f77ee329-2a9f-462d-b9cd-007ed4ba0bb7"
      }
     }
    },
    "37cf87b9-b26d-4f7e-a5d4-4a3559015710": {
     "id": "37cf87b9-b26d-4f7e-a5d4-4a3559015710",
     "prev": "638e64ec-df89-4f5e-a86e-590558feb47e",
     "regions": {
      "1640f9fa-c095-43f6-90c1-babb896ae669": {
       "attrs": {
        "height": 0.8,
        "width": 0.8,
        "x": 0.1,
        "y": 0.1
       },
       "content": {
        "cell": "cb21165b-3ef9-4d36-82dd-04d66111cbc7",
        "part": "whole"
       },
       "id": "1640f9fa-c095-43f6-90c1-babb896ae669"
      }
     }
    },
    "3e8f9039-807d-46eb-8a46-8631cdb2a730": {
     "id": "3e8f9039-807d-46eb-8a46-8631cdb2a730",
     "prev": "7f7dc453-3d75-45d0-add3-1f73c3148c71",
     "regions": {
      "2c27e3f4-af09-4a45-a667-f69c118240cd": {
       "attrs": {
        "height": 0.8,
        "width": 0.8,
        "x": 0.1,
        "y": 0.1
       },
       "content": {
        "cell": "fde5e628-a5b3-400f-8834-a6d32220a51e",
        "part": "whole"
       },
       "id": "2c27e3f4-af09-4a45-a667-f69c118240cd"
      }
     }
    },
    "3ec6171c-3a18-4598-a151-1aa64253dcff": {
     "id": "3ec6171c-3a18-4598-a151-1aa64253dcff",
     "prev": "614ab317-f1fd-4f40-9039-cb6c74b50760",
     "regions": {
      "886d6107-2a34-4af4-9416-091e97052ed7": {
       "attrs": {
        "height": 0.8,
        "width": 0.8,
        "x": 0.1,
        "y": 0.1
       },
       "content": {
        "cell": "d6882dfe-43fa-46c4-a7f5-d3e2a647a24f",
        "part": "whole"
       },
       "id": "886d6107-2a34-4af4-9416-091e97052ed7"
      }
     }
    },
    "40a3b967-44ae-4a91-b14a-6b555e79ca3c": {
     "id": "40a3b967-44ae-4a91-b14a-6b555e79ca3c",
     "prev": "21e3fc01-a6f2-454f-a540-26d30c343335",
     "regions": {
      "3eb6224d-d3ae-469e-9a60-48addfdb1919": {
       "attrs": {
        "height": 0.8,
        "width": 0.8,
        "x": 0.1,
        "y": 0.1
       },
       "content": {
        "cell": "3d4e6c6c-e65a-4dd1-89f4-722b62fefa44",
        "part": "whole"
       },
       "id": "3eb6224d-d3ae-469e-9a60-48addfdb1919"
      }
     }
    },
    "4af5cee8-0b59-4637-bd4f-2caa211a87da": {
     "id": "4af5cee8-0b59-4637-bd4f-2caa211a87da",
     "prev": null,
     "regions": {
      "59c450e4-7cfb-41d9-ae97-db61dcb1a2e7": {
       "attrs": {
        "height": 0.8,
        "width": 0.8,
        "x": 0.1,
        "y": 0.1
       },
       "content": {
        "cell": "ef613a2a-a95b-4837-ab40-df832935b1c7",
        "part": "whole"
       },
       "id": "59c450e4-7cfb-41d9-ae97-db61dcb1a2e7"
      }
     }
    },
    "4c214755-8f94-476b-aef7-14f33dcb3f5e": {
     "id": "4c214755-8f94-476b-aef7-14f33dcb3f5e",
     "prev": "8f409035-212d-4e9f-a237-0d3c1979996b",
     "regions": {
      "a74931c2-2c75-42fe-b0b7-483fbb362f92": {
       "attrs": {
        "height": 0.8,
        "width": 0.8,
        "x": 0.1,
        "y": 0.1
       },
       "content": {
        "cell": "9ef60d3f-7a33-4b19-a849-7900e6b8d4de",
        "part": "whole"
       },
       "id": "a74931c2-2c75-42fe-b0b7-483fbb362f92"
      }
     }
    },
    "506d8bb0-eb96-47fd-815e-72ad89b6e3fa": {
     "id": "506d8bb0-eb96-47fd-815e-72ad89b6e3fa",
     "prev": "5b10b372-fa7d-4637-9fd4-4645b186fa45",
     "regions": {
      "e5f9a3c6-da85-4b77-b8c9-3486c8cf44f3": {
       "attrs": {
        "height": 0.8,
        "width": 0.8,
        "x": 0.1,
        "y": 0.1
       },
       "content": {
        "cell": "5de09387-2963-4829-aba2-6a21dde49105",
        "part": "whole"
       },
       "id": "e5f9a3c6-da85-4b77-b8c9-3486c8cf44f3"
      }
     }
    },
    "5819eab5-2878-41df-9338-8a9e18d93d42": {
     "id": "5819eab5-2878-41df-9338-8a9e18d93d42",
     "prev": "da945a31-432d-4d13-8513-7d2552a5d58e",
     "regions": {
      "c3217b3b-2a50-4764-ac51-3e353082bbe5": {
       "attrs": {
        "height": 0.8,
        "width": 0.8,
        "x": 0.1,
        "y": 0.1
       },
       "content": {
        "cell": "b10c0a0e-81f1-4200-9058-383285b0bdc9",
        "part": "whole"
       },
       "id": "c3217b3b-2a50-4764-ac51-3e353082bbe5"
      }
     }
    },
    "5b10b372-fa7d-4637-9fd4-4645b186fa45": {
     "id": "5b10b372-fa7d-4637-9fd4-4645b186fa45",
     "prev": "126b8030-05ff-4427-b246-0a891dcb0b31",
     "regions": {
      "e9e0c490-cf9f-4fbd-a12c-24315eac63c7": {
       "attrs": {
        "height": 0.8,
        "width": 0.8,
        "x": 0.1,
        "y": 0.1
       },
       "content": {
        "cell": "4ab5f505-2ceb-4c66-a9b9-d7bd67e4704b",
        "part": "whole"
       },
       "id": "e9e0c490-cf9f-4fbd-a12c-24315eac63c7"
      }
     }
    },
    "5de63710-06ae-4433-b2b2-df4a4b56c24c": {
     "id": "5de63710-06ae-4433-b2b2-df4a4b56c24c",
     "prev": "6380780a-0b50-4d6f-9aad-402660dabead",
     "regions": {
      "18fab97b-58d1-408d-8c88-16b71d2496a2": {
       "attrs": {
        "height": 0.8,
        "width": 0.8,
        "x": 0.1,
        "y": 0.1
       },
       "content": {
        "cell": "7e0ee611-a497-45f3-8314-c04f5873c3fb",
        "part": "whole"
       },
       "id": "18fab97b-58d1-408d-8c88-16b71d2496a2"
      }
     }
    },
    "614ab317-f1fd-4f40-9039-cb6c74b50760": {
     "id": "614ab317-f1fd-4f40-9039-cb6c74b50760",
     "prev": "85500a0a-ebef-4771-8922-617608371e15",
     "regions": {
      "676ff5fb-e29d-42df-a6f3-ff80f2d4ec1b": {
       "attrs": {
        "height": 0.8,
        "width": 0.8,
        "x": 0.1,
        "y": 0.1
       },
       "content": {
        "cell": "28f6bd51-6d3b-4d6b-8487-da4f1a568557",
        "part": "whole"
       },
       "id": "676ff5fb-e29d-42df-a6f3-ff80f2d4ec1b"
      }
     }
    },
    "6277d960-018b-4978-a0b1-de508b15244d": {
     "id": "6277d960-018b-4978-a0b1-de508b15244d",
     "prev": "7498bb89-693c-4704-856e-36f8f51766ea",
     "regions": {
      "71861867-81e9-48b4-9d4e-a39438f442a6": {
       "attrs": {
        "height": 0.8,
        "width": 0.8,
        "x": 0.1,
        "y": 0.1
       },
       "content": {
        "cell": "1406fed8-a232-41bc-b2eb-8e26e6e5e522",
        "part": "whole"
       },
       "id": "71861867-81e9-48b4-9d4e-a39438f442a6"
      }
     }
    },
    "6380780a-0b50-4d6f-9aad-402660dabead": {
     "id": "6380780a-0b50-4d6f-9aad-402660dabead",
     "prev": "749e1a97-3129-4a4e-bf12-6a091c3e3fa3",
     "regions": {
      "42479f96-7b84-4a96-a618-199757ddedf1": {
       "attrs": {
        "height": 0.8,
        "width": 0.8,
        "x": 0.1,
        "y": 0.1
       },
       "content": {
        "cell": "889be83f-89ce-4950-ae11-f9040a7fb7a6",
        "part": "whole"
       },
       "id": "42479f96-7b84-4a96-a618-199757ddedf1"
      }
     }
    },
    "638e64ec-df89-4f5e-a86e-590558feb47e": {
     "id": "638e64ec-df89-4f5e-a86e-590558feb47e",
     "prev": "95aa8654-5ed9-4ecd-9042-a4bcdf1d873f",
     "regions": {
      "a58650ed-ba68-4700-a9a5-f07f60afffd6": {
       "attrs": {
        "height": 0.8,
        "width": 0.8,
        "x": 0.1,
        "y": 0.1
       },
       "content": {
        "cell": "2fc3fe09-cf63-482f-9445-04dd6a501170",
        "part": "whole"
       },
       "id": "a58650ed-ba68-4700-a9a5-f07f60afffd6"
      }
     }
    },
    "6caed374-f515-4751-bdfc-92842b3a45fb": {
     "id": "6caed374-f515-4751-bdfc-92842b3a45fb",
     "prev": "3ec6171c-3a18-4598-a151-1aa64253dcff",
     "regions": {
      "fbdb6bf0-32c5-402b-b74d-814111ed11c9": {
       "attrs": {
        "height": 0.8,
        "width": 0.8,
        "x": 0.1,
        "y": 0.1
       },
       "content": {
        "cell": "e3e48eba-c1ae-4e38-a3eb-ca4dfa5f0f3a",
        "part": "whole"
       },
       "id": "fbdb6bf0-32c5-402b-b74d-814111ed11c9"
      }
     }
    },
    "6cce3242-ddbd-47fe-ab0b-8eab3a7040a8": {
     "id": "6cce3242-ddbd-47fe-ab0b-8eab3a7040a8",
     "prev": "87ad80dc-a0fc-4d9a-ab2a-ac0c48c4e1f5",
     "regions": {
      "73ec46b6-3cf0-446a-b7f0-d4e0e8fedef7": {
       "attrs": {
        "height": 0.8,
        "width": 0.8,
        "x": 0.1,
        "y": 0.1
       },
       "content": {
        "cell": "71da048e-4a0b-48b2-925e-0ea371a8df27",
        "part": "whole"
       },
       "id": "73ec46b6-3cf0-446a-b7f0-d4e0e8fedef7"
      }
     }
    },
    "6f73eb2e-cc4d-4af2-9a63-58f3eb11bf4d": {
     "id": "6f73eb2e-cc4d-4af2-9a63-58f3eb11bf4d",
     "prev": "07238544-06ad-4597-929a-1dc98af9242f",
     "regions": {
      "0b5f1fd0-05c6-4b4d-ac57-c327ac94d1e4": {
       "attrs": {
        "height": 0.8,
        "width": 0.8,
        "x": 0.1,
        "y": 0.1
       },
       "content": {
        "cell": "18a4cde7-44f2-4abc-9c80-fc36395bbf9f",
        "part": "whole"
       },
       "id": "0b5f1fd0-05c6-4b4d-ac57-c327ac94d1e4"
      }
     }
    },
    "70dcf23f-8c5a-4514-b63b-a79e9d90e73a": {
     "id": "70dcf23f-8c5a-4514-b63b-a79e9d90e73a",
     "prev": "06184d95-d11a-44ee-ada4-0f2ca43d585f",
     "regions": {
      "fb4e48b1-9081-4c66-aeba-531c78b57053": {
       "attrs": {
        "height": 0.8,
        "width": 0.8,
        "x": 0.1,
        "y": 0.1
       },
       "content": {
        "cell": "6df9a26a-d7fd-4b44-9c76-2c114c8ccf43",
        "part": "whole"
       },
       "id": "fb4e48b1-9081-4c66-aeba-531c78b57053"
      }
     }
    },
    "72969702-94bd-4ca2-a63e-c1a09cad7d2f": {
     "id": "72969702-94bd-4ca2-a63e-c1a09cad7d2f",
     "prev": "c4f6be97-7395-4550-8fee-d3e56c653056",
     "regions": {
      "7b99b17e-dadb-4f98-8745-645f90b307c6": {
       "attrs": {
        "height": 0.8,
        "width": 0.8,
        "x": 0.1,
        "y": 0.1
       },
       "content": {
        "cell": "63726e95-8acd-454f-9b95-954d4a4a9efe",
        "part": "whole"
       },
       "id": "7b99b17e-dadb-4f98-8745-645f90b307c6"
      }
     }
    },
    "7498bb89-693c-4704-856e-36f8f51766ea": {
     "id": "7498bb89-693c-4704-856e-36f8f51766ea",
     "prev": "1b27bee1-b9a8-4a13-b86b-565496537cf2",
     "regions": {
      "6eb191fc-9bb5-425b-a9a5-9d40e0d11684": {
       "attrs": {
        "height": 0.8,
        "width": 0.8,
        "x": 0.1,
        "y": 0.1
       },
       "content": {
        "cell": "b82d99fe-1a61-4dfd-86b2-456ae7df3f69",
        "part": "whole"
       },
       "id": "6eb191fc-9bb5-425b-a9a5-9d40e0d11684"
      }
     }
    },
    "749e1a97-3129-4a4e-bf12-6a091c3e3fa3": {
     "id": "749e1a97-3129-4a4e-bf12-6a091c3e3fa3",
     "prev": "6f73eb2e-cc4d-4af2-9a63-58f3eb11bf4d",
     "regions": {
      "92f791f3-f8bf-495b-9d6b-5096e9c5b764": {
       "attrs": {
        "height": 0.8,
        "width": 0.8,
        "x": 0.1,
        "y": 0.1
       },
       "content": {
        "cell": "e060e6fb-6f85-4f1a-9d94-0f8f26e70e96",
        "part": "whole"
       },
       "id": "92f791f3-f8bf-495b-9d6b-5096e9c5b764"
      }
     }
    },
    "74ab531b-450f-4691-916e-bc4753d38c94": {
     "id": "74ab531b-450f-4691-916e-bc4753d38c94",
     "prev": "d00b9481-172e-4b2e-a942-9e4c1e3ba677",
     "regions": {
      "308e7fd7-8f65-4020-9f96-15eda8dcf7ec": {
       "attrs": {
        "height": 0.8,
        "width": 0.8,
        "x": 0.1,
        "y": 0.1
       },
       "content": {
        "cell": "acf551f7-5425-49f0-88c7-76f587da6533",
        "part": "whole"
       },
       "id": "308e7fd7-8f65-4020-9f96-15eda8dcf7ec"
      }
     }
    },
    "7c265327-327e-4774-949b-def297516748": {
     "id": "7c265327-327e-4774-949b-def297516748",
     "prev": "9bee92d2-92e5-4ecb-bd36-fc4d95d6caad",
     "regions": {
      "fda86139-8e18-4a0c-83f1-b43f8dc698d6": {
       "attrs": {
        "height": 0.8,
        "width": 0.8,
        "x": 0.1,
        "y": 0.1
       },
       "content": {
        "cell": "b83c36c2-b874-430f-ae65-d06c6da04c48",
        "part": "whole"
       },
       "id": "fda86139-8e18-4a0c-83f1-b43f8dc698d6"
      }
     }
    },
    "7ece40fe-a8bb-4acd-8518-44cd0d3a26b3": {
     "id": "7ece40fe-a8bb-4acd-8518-44cd0d3a26b3",
     "prev": "ffd2f95b-932e-48a0-8eb8-fe226c367b4e",
     "regions": {
      "ab85019b-c786-4187-a114-01a62c724a4d": {
       "attrs": {
        "height": 0.8,
        "width": 0.8,
        "x": 0.1,
        "y": 0.1
       },
       "content": {
        "cell": "4bab5413-8219-42da-8fdc-ec4a859ffea1",
        "part": "whole"
       },
       "id": "ab85019b-c786-4187-a114-01a62c724a4d"
      }
     }
    },
    "7f7dc453-3d75-45d0-add3-1f73c3148c71": {
     "id": "7f7dc453-3d75-45d0-add3-1f73c3148c71",
     "prev": "0e570cca-bbaf-42dd-ab8e-a656f266117f",
     "regions": {
      "18266bb3-f607-4e18-979f-b2001ca57d17": {
       "attrs": {
        "height": 0.8,
        "width": 0.8,
        "x": 0.1,
        "y": 0.1
       },
       "content": {
        "cell": "9ef7c6c9-78b4-47ac-be0f-d40dab3a3b87",
        "part": "whole"
       },
       "id": "18266bb3-f607-4e18-979f-b2001ca57d17"
      }
     }
    },
    "80a01fa2-2b89-4bfd-8046-2432a47b4ac0": {
     "id": "80a01fa2-2b89-4bfd-8046-2432a47b4ac0",
     "prev": "1cf5f71c-e32a-44b1-a437-2270d94e3c19",
     "regions": {
      "a3a108a8-07e7-474d-b3da-29e6344d8a4d": {
       "attrs": {
        "height": 0.8,
        "width": 0.8,
        "x": 0.1,
        "y": 0.1
       },
       "content": {
        "cell": "ca4003eb-e68a-4695-a657-08a54c1bdae4",
        "part": "whole"
       },
       "id": "a3a108a8-07e7-474d-b3da-29e6344d8a4d"
      }
     }
    },
    "83e77fcc-b584-41b4-868e-293fdea24604": {
     "id": "83e77fcc-b584-41b4-868e-293fdea24604",
     "prev": "b13aa856-087d-41ca-9b91-c6973de1a7c5",
     "regions": {
      "cfbeb2fe-3a35-47ac-8227-527df41cf96e": {
       "attrs": {
        "height": 0.8,
        "width": 0.8,
        "x": 0.1,
        "y": 0.1
       },
       "content": {
        "cell": "ed87d72c-e36c-4470-94cf-4a789fbb33ef",
        "part": "whole"
       },
       "id": "cfbeb2fe-3a35-47ac-8227-527df41cf96e"
      }
     }
    },
    "85500a0a-ebef-4771-8922-617608371e15": {
     "id": "85500a0a-ebef-4771-8922-617608371e15",
     "prev": "6277d960-018b-4978-a0b1-de508b15244d",
     "regions": {
      "31cea445-824a-4668-bc93-0569738b6d33": {
       "attrs": {
        "height": 0.8,
        "width": 0.8,
        "x": 0.1,
        "y": 0.1
       },
       "content": {
        "cell": "0fcc1890-ad38-462a-91c5-a6a1c453c359",
        "part": "whole"
       },
       "id": "31cea445-824a-4668-bc93-0569738b6d33"
      }
     }
    },
    "87ad80dc-a0fc-4d9a-ab2a-ac0c48c4e1f5": {
     "id": "87ad80dc-a0fc-4d9a-ab2a-ac0c48c4e1f5",
     "prev": "74ab531b-450f-4691-916e-bc4753d38c94",
     "regions": {
      "3a9c5605-2db1-4c20-8a4d-c941491a00d6": {
       "attrs": {
        "height": 0.8,
        "width": 0.8,
        "x": 0.1,
        "y": 0.1
       },
       "content": {
        "cell": "464da6ab-aaf0-4980-9d66-aa29ef137f38",
        "part": "whole"
       },
       "id": "3a9c5605-2db1-4c20-8a4d-c941491a00d6"
      }
     }
    },
    "8f409035-212d-4e9f-a237-0d3c1979996b": {
     "id": "8f409035-212d-4e9f-a237-0d3c1979996b",
     "prev": "a3c65b33-b4c2-47cc-847f-cbe52aee56ff",
     "regions": {
      "624867f8-d668-4fb2-80ac-24c254229a7d": {
       "attrs": {
        "height": 0.8,
        "width": 0.8,
        "x": 0.1,
        "y": 0.1
       },
       "content": {
        "cell": "398d31c6-eadf-49d8-86b2-714ffe6c45dc",
        "part": "whole"
       },
       "id": "624867f8-d668-4fb2-80ac-24c254229a7d"
      }
     }
    },
    "95aa8654-5ed9-4ecd-9042-a4bcdf1d873f": {
     "id": "95aa8654-5ed9-4ecd-9042-a4bcdf1d873f",
     "prev": "2ece291b-a8a4-4008-928d-47a1ff7d27b6",
     "regions": {
      "5971724e-fea5-4ba6-bca7-41d0a28740bd": {
       "attrs": {
        "height": 0.8,
        "width": 0.8,
        "x": 0.1,
        "y": 0.1
       },
       "content": {
        "cell": "342a1c23-46fc-4b0e-a62f-cc1429b785fa",
        "part": "whole"
       },
       "id": "5971724e-fea5-4ba6-bca7-41d0a28740bd"
      }
     }
    },
    "9bee92d2-92e5-4ecb-bd36-fc4d95d6caad": {
     "id": "9bee92d2-92e5-4ecb-bd36-fc4d95d6caad",
     "prev": "72969702-94bd-4ca2-a63e-c1a09cad7d2f",
     "regions": {
      "0f7b47ec-681c-413e-9e75-eb83abcdc4e0": {
       "attrs": {
        "height": 0.8,
        "width": 0.8,
        "x": 0.1,
        "y": 0.1
       },
       "content": {
        "cell": "14891aee-5eb8-44ae-8c5b-03f2d2323e90",
        "part": "whole"
       },
       "id": "0f7b47ec-681c-413e-9e75-eb83abcdc4e0"
      }
     }
    },
    "a3c65b33-b4c2-47cc-847f-cbe52aee56ff": {
     "id": "a3c65b33-b4c2-47cc-847f-cbe52aee56ff",
     "prev": "166dc242-4a26-4330-9132-a5dd6ae40f69",
     "regions": {
      "688c4457-ac5f-442a-b7e3-c22152f8286b": {
       "attrs": {
        "height": 0.8,
        "width": 0.8,
        "x": 0.1,
        "y": 0.1
       },
       "content": {
        "cell": "2384a70c-4e89-483a-bdca-0d3a447287e1",
        "part": "whole"
       },
       "id": "688c4457-ac5f-442a-b7e3-c22152f8286b"
      }
     }
    },
    "acadbaf3-a813-4071-a8ea-65774f880f29": {
     "id": "acadbaf3-a813-4071-a8ea-65774f880f29",
     "prev": "3e8f9039-807d-46eb-8a46-8631cdb2a730",
     "regions": {
      "3c2081fd-f174-47e3-9444-c52aabef3324": {
       "attrs": {
        "height": 0.8,
        "width": 0.8,
        "x": 0.1,
        "y": 0.1
       },
       "content": {
        "cell": "d3a81cfa-cc40-4793-836c-cb8fe055320a",
        "part": "whole"
       },
       "id": "3c2081fd-f174-47e3-9444-c52aabef3324"
      }
     }
    },
    "acef3b80-9513-4709-97c7-b6a2a89c02aa": {
     "id": "acef3b80-9513-4709-97c7-b6a2a89c02aa",
     "prev": "6caed374-f515-4751-bdfc-92842b3a45fb",
     "regions": {
      "285e22f7-6138-4d96-8317-11a2f73585d6": {
       "attrs": {
        "height": 0.8,
        "width": 0.8,
        "x": 0.1,
        "y": 0.1
       },
       "content": {
        "cell": "f99d5796-c6fe-423a-b6b5-371723307807",
        "part": "whole"
       },
       "id": "285e22f7-6138-4d96-8317-11a2f73585d6"
      }
     }
    },
    "b13aa856-087d-41ca-9b91-c6973de1a7c5": {
     "id": "b13aa856-087d-41ca-9b91-c6973de1a7c5",
     "prev": "193d7417-65d6-45ac-ac95-43317f66da9a",
     "regions": {
      "469b1d92-5283-4c97-adc3-d5afb96269fe": {
       "attrs": {
        "height": 0.8,
        "width": 0.8,
        "x": 0.1,
        "y": 0.1
       },
       "content": {
        "cell": "b512c25f-e223-4fcf-83bc-59795f4ba864",
        "part": "whole"
       },
       "id": "469b1d92-5283-4c97-adc3-d5afb96269fe"
      }
     }
    },
    "b4faf762-e759-456c-9e0c-b7a5435c8328": {
     "id": "b4faf762-e759-456c-9e0c-b7a5435c8328",
     "prev": "cfbb8662-aa92-481a-af30-9b1058ee0a9c",
     "regions": {
      "735e5fc9-3c9c-414c-aecf-5fd2d1d1e782": {
       "attrs": {
        "height": 0.8,
        "width": 0.8,
        "x": 0.1,
        "y": 0.1
       },
       "content": {
        "cell": "fb2f59ee-afd1-4d4d-a2bd-419fae16b09c",
        "part": "whole"
       },
       "id": "735e5fc9-3c9c-414c-aecf-5fd2d1d1e782"
      }
     }
    },
    "b7e5de68-b085-47e2-aca5-30e43fb321a8": {
     "id": "b7e5de68-b085-47e2-aca5-30e43fb321a8",
     "prev": "4af5cee8-0b59-4637-bd4f-2caa211a87da",
     "regions": {
      "f3250541-8251-4ef7-972f-c9e54e25c378": {
       "attrs": {
        "height": 0.8,
        "width": 0.8,
        "x": 0.1,
        "y": 0.1
       },
       "content": {
        "cell": "643e23bc-f6c2-4ca8-b160-710846d4027c",
        "part": "whole"
       },
       "id": "f3250541-8251-4ef7-972f-c9e54e25c378"
      }
     }
    },
    "bb09c534-3a85-4a34-80f6-9e91066392e4": {
     "id": "bb09c534-3a85-4a34-80f6-9e91066392e4",
     "prev": "fafcb9a2-19b7-43ed-91d6-3de2dc741293",
     "regions": {
      "2ce7e4cd-f053-490c-b3fb-37c875cf904d": {
       "attrs": {
        "height": 0.8,
        "width": 0.8,
        "x": 0.1,
        "y": 0.1
       },
       "content": {
        "cell": "0999bf0d-c06e-4a9e-83b9-4901f443a0e3",
        "part": "whole"
       },
       "id": "2ce7e4cd-f053-490c-b3fb-37c875cf904d"
      }
     }
    },
    "c0da70de-d7e1-4528-ac6d-4d01a51e4b06": {
     "id": "c0da70de-d7e1-4528-ac6d-4d01a51e4b06",
     "prev": "7c265327-327e-4774-949b-def297516748",
     "regions": {
      "65e97eea-aa20-4ad5-bfa1-a08c2ecad8d5": {
       "attrs": {
        "height": 0.8,
        "width": 0.8,
        "x": 0.1,
        "y": 0.1
       },
       "content": {
        "cell": "17037a75-aa8e-440f-91e9-6dcb714a3c2e",
        "part": "whole"
       },
       "id": "65e97eea-aa20-4ad5-bfa1-a08c2ecad8d5"
      }
     }
    },
    "c4f6be97-7395-4550-8fee-d3e56c653056": {
     "id": "c4f6be97-7395-4550-8fee-d3e56c653056",
     "prev": "27c29b1a-5034-45f9-8f3f-fee1b5055988",
     "regions": {
      "c0ca855e-f346-48f9-b538-6562114baa88": {
       "attrs": {
        "height": 0.8,
        "width": 0.8,
        "x": 0.1,
        "y": 0.1
       },
       "content": {
        "cell": "cd5eb574-9a60-4ff3-a4ba-b5cc7c719ff1",
        "part": "whole"
       },
       "id": "c0ca855e-f346-48f9-b538-6562114baa88"
      }
     }
    },
    "cfbb8662-aa92-481a-af30-9b1058ee0a9c": {
     "id": "cfbb8662-aa92-481a-af30-9b1058ee0a9c",
     "prev": "83e77fcc-b584-41b4-868e-293fdea24604",
     "regions": {
      "b74a116b-1de9-4094-9775-ad223b3c33c5": {
       "attrs": {
        "height": 0.8,
        "width": 0.8,
        "x": 0.1,
        "y": 0.1
       },
       "content": {
        "cell": "f7b57b03-2b05-4e75-b361-edc65e2d5b4c",
        "part": "whole"
       },
       "id": "b74a116b-1de9-4094-9775-ad223b3c33c5"
      }
     }
    },
    "d00b9481-172e-4b2e-a942-9e4c1e3ba677": {
     "id": "d00b9481-172e-4b2e-a942-9e4c1e3ba677",
     "prev": "5de63710-06ae-4433-b2b2-df4a4b56c24c",
     "regions": {
      "4c462d75-3c09-4767-acf8-4d5ea32a5711": {
       "attrs": {
        "height": 0.8,
        "width": 0.8,
        "x": 0.1,
        "y": 0.1
       },
       "content": {
        "cell": "01959d75-d656-4f5c-8bb0-c411d01e3d9a",
        "part": "whole"
       },
       "id": "4c462d75-3c09-4767-acf8-4d5ea32a5711"
      }
     }
    },
    "da945a31-432d-4d13-8513-7d2552a5d58e": {
     "id": "da945a31-432d-4d13-8513-7d2552a5d58e",
     "prev": "4c214755-8f94-476b-aef7-14f33dcb3f5e",
     "regions": {
      "173f4eb8-8efd-44a3-8b53-c853e374b7c5": {
       "attrs": {
        "height": 0.8,
        "width": 0.8,
        "x": 0.1,
        "y": 0.1
       },
       "content": {
        "cell": "97f4d54a-f1aa-47ee-bf54-cc0bef65daa7",
        "part": "whole"
       },
       "id": "173f4eb8-8efd-44a3-8b53-c853e374b7c5"
      }
     }
    },
    "df63a93e-a173-43b0-9f53-f6b9b67c6ebc": {
     "id": "df63a93e-a173-43b0-9f53-f6b9b67c6ebc",
     "prev": "7ece40fe-a8bb-4acd-8518-44cd0d3a26b3",
     "regions": {
      "9217251a-6cc7-4cfb-a49f-e275573c55db": {
       "attrs": {
        "height": 0.8,
        "width": 0.8,
        "x": 0.1,
        "y": 0.1
       },
       "content": {
        "cell": "77e81952-f7f6-49d4-acdf-a997841a8dbf",
        "part": "whole"
       },
       "id": "9217251a-6cc7-4cfb-a49f-e275573c55db"
      }
     }
    },
    "e7001a0a-419a-4d6c-bce1-e9a7b659f9a1": {
     "id": "e7001a0a-419a-4d6c-bce1-e9a7b659f9a1",
     "prev": "37cf87b9-b26d-4f7e-a5d4-4a3559015710",
     "regions": {
      "7d4f44f9-8001-491a-8eb5-1927d576e38f": {
       "attrs": {
        "height": 0.8,
        "width": 0.8,
        "x": 0.1,
        "y": 0.1
       },
       "content": {
        "cell": "84d56b30-c05e-4639-a65b-1068caf92167",
        "part": "whole"
       },
       "id": "7d4f44f9-8001-491a-8eb5-1927d576e38f"
      }
     }
    },
    "f2e8b0c7-3776-4087-9f3d-cd84a948b22b": {
     "id": "f2e8b0c7-3776-4087-9f3d-cd84a948b22b",
     "prev": "70dcf23f-8c5a-4514-b63b-a79e9d90e73a",
     "regions": {
      "7875a540-a728-4e1f-a952-2d8ca3398d36": {
       "attrs": {
        "height": 0.8,
        "width": 0.8,
        "x": 0.1,
        "y": 0.1
       },
       "content": {
        "cell": "2ee7ab9b-a90c-4527-8037-867468576168",
        "part": "whole"
       },
       "id": "7875a540-a728-4e1f-a952-2d8ca3398d36"
      }
     }
    },
    "f37854cf-147d-42b1-bd61-84f15c8fc8f9": {
     "id": "f37854cf-147d-42b1-bd61-84f15c8fc8f9",
     "prev": "b4faf762-e759-456c-9e0c-b7a5435c8328",
     "regions": {
      "43e98570-d239-4838-9b80-d45791e0513e": {
       "attrs": {
        "height": 0.8,
        "width": 0.8,
        "x": 0.1,
        "y": 0.1
       },
       "content": {
        "cell": "654c9fdc-4cd4-4c6d-87cf-7975c783a38a",
        "part": "whole"
       },
       "id": "43e98570-d239-4838-9b80-d45791e0513e"
      }
     }
    },
    "fa5c9cd9-9832-40e6-a788-7aba755047b1": {
     "id": "fa5c9cd9-9832-40e6-a788-7aba755047b1",
     "prev": "6cce3242-ddbd-47fe-ab0b-8eab3a7040a8",
     "regions": {
      "f107eb10-4ee0-4acf-a17f-4c7f7cc802b2": {
       "attrs": {
        "height": 0.8,
        "width": 0.8,
        "x": 0.1,
        "y": 0.1
       },
       "content": {
        "cell": "6090bf82-2fb1-4e77-9f08-b733fa8abfff",
        "part": "whole"
       },
       "id": "f107eb10-4ee0-4acf-a17f-4c7f7cc802b2"
      }
     }
    },
    "fafcb9a2-19b7-43ed-91d6-3de2dc741293": {
     "id": "fafcb9a2-19b7-43ed-91d6-3de2dc741293",
     "prev": "1f203937-2cfa-4117-810a-ee7fd9ca139f",
     "regions": {
      "03606159-0313-4e1b-8e00-f730b2b7c8d8": {
       "attrs": {
        "height": 0.8,
        "width": 0.8,
        "x": 0.1,
        "y": 0.1
       },
       "content": {
        "cell": "b491fc86-8051-454a-ae40-5804e72b9ccd",
        "part": "whole"
       },
       "id": "03606159-0313-4e1b-8e00-f730b2b7c8d8"
      }
     }
    },
    "fecb5cd1-89e9-499f-84b9-133c81ec7a57": {
     "id": "fecb5cd1-89e9-499f-84b9-133c81ec7a57",
     "prev": "f37854cf-147d-42b1-bd61-84f15c8fc8f9",
     "regions": {
      "f2bb4cb9-64e9-4f9e-bd6f-879d23068692": {
       "attrs": {
        "height": 0.8,
        "width": 0.8,
        "x": 0.1,
        "y": 0.1
       },
       "content": {
        "cell": "c03e21b6-a2cf-42da-b1a3-acc84cca936e",
        "part": "whole"
       },
       "id": "f2bb4cb9-64e9-4f9e-bd6f-879d23068692"
      }
     }
    },
    "ffd2f95b-932e-48a0-8eb8-fe226c367b4e": {
     "id": "ffd2f95b-932e-48a0-8eb8-fe226c367b4e",
     "prev": "b7e5de68-b085-47e2-aca5-30e43fb321a8",
     "regions": {
      "aa23fa3b-0057-4334-9c4f-171eca68c712": {
       "attrs": {
        "height": 0.8,
        "width": 0.8,
        "x": 0.1,
        "y": 0.1
       },
       "content": {
        "cell": "a43c2e8a-d80b-469f-8e14-d423783e993a",
        "part": "whole"
       },
       "id": "aa23fa3b-0057-4334-9c4f-171eca68c712"
      }
     }
    }
   },
   "themes": {
    "default": "314fc833-6049-474e-82e3-52a260c0a5a1",
    "theme": {
     "314fc833-6049-474e-82e3-52a260c0a5a1": {
      "id": "314fc833-6049-474e-82e3-52a260c0a5a1",
      "palette": {
       "19cc588f-0593-49c9-9f4b-e4d7cc113b1c": {
        "id": "19cc588f-0593-49c9-9f4b-e4d7cc113b1c",
        "rgb": [
         252,
         252,
         252
        ]
       },
       "31af15d2-7e15-44c5-ab5e-e04b16a89eff": {
        "id": "31af15d2-7e15-44c5-ab5e-e04b16a89eff",
        "rgb": [
         68,
         68,
         68
        ]
       },
       "50f92c45-a630-455b-aec3-788680ec7410": {
        "id": "50f92c45-a630-455b-aec3-788680ec7410",
        "rgb": [
         155,
         177,
         192
        ]
       },
       "c5cc3653-2ee1-402a-aba2-7caae1da4f6c": {
        "id": "c5cc3653-2ee1-402a-aba2-7caae1da4f6c",
        "rgb": [
         43,
         126,
         184
        ]
       },
       "efa7f048-9acb-414c-8b04-a26811511a21": {
        "id": "efa7f048-9acb-414c-8b04-a26811511a21",
        "rgb": [
         25.118061674008803,
         73.60176211453744,
         107.4819383259912
        ]
       }
      },
      "rules": {
       "blockquote": {
        "color": "50f92c45-a630-455b-aec3-788680ec7410"
       },
       "code": {
        "font-family": "Anonymous Pro"
       },
       "h1": {
        "color": "c5cc3653-2ee1-402a-aba2-7caae1da4f6c",
        "font-family": "Lato",
        "font-size": 8
       },
       "h2": {
        "color": "c5cc3653-2ee1-402a-aba2-7caae1da4f6c",
        "font-family": "Lato",
        "font-size": 6
       },
       "h3": {
        "color": "50f92c45-a630-455b-aec3-788680ec7410",
        "font-family": "Lato",
        "font-size": 5.5
       },
       "h4": {
        "color": "c5cc3653-2ee1-402a-aba2-7caae1da4f6c",
        "font-family": "Lato",
        "font-size": 5
       },
       "h5": {
        "font-family": "Lato"
       },
       "h6": {
        "font-family": "Lato"
       },
       "h7": {
        "font-family": "Lato"
       },
       "pre": {
        "font-family": "Anonymous Pro",
        "font-size": 4
       }
      },
      "text-base": {
       "font-family": "Merriweather",
       "font-size": 4
      }
     }
    }
   }
  },
  "toc": {
   "navigate_menu": true,
   "number_sections": true,
   "sideBar": true,
   "threshold": 6,
   "toc_cell": false,
   "toc_section_display": "none",
   "toc_window_display": false
  },
  "widgets": {
   "state": {
    "1a0e598270934111b33ba1cc76c4c677": {
     "views": [
      {
       "cell_index": 56
      }
     ]
    },
    "2d83ef05c69a456fa11bf634edf368b0": {
     "views": [
      {
       "cell_index": 44
      }
     ]
    }
   },
   "version": "1.2.0"
  }
 },
 "nbformat": 4,
 "nbformat_minor": 1
}
